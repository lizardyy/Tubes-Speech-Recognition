{
 "cells": [
  {
   "cell_type": "code",
   "execution_count": 2,
   "metadata": {},
   "outputs": [
    {
     "name": "stdout",
     "output_type": "stream",
     "text": [
      "Collecting pyloudnorm\n",
      "  Downloading pyloudnorm-0.1.1-py3-none-any.whl (9.6 kB)\n",
      "Requirement already satisfied: scipy>=1.0.1 in c:\\users\\mahesa lizardy\\appdata\\local\\programs\\python\\python310\\lib\\site-packages (from pyloudnorm) (1.10.1)\n",
      "Requirement already satisfied: numpy>=1.14.2 in c:\\users\\mahesa lizardy\\appdata\\local\\programs\\python\\python310\\lib\\site-packages (from pyloudnorm) (1.24.2)\n",
      "Collecting future>=0.16.0 (from pyloudnorm)\n",
      "  Downloading future-0.18.3.tar.gz (840 kB)\n",
      "     ---------------------------------------- 0.0/840.9 kB ? eta -:--:--\n",
      "     --- ----------------------------------- 71.7/840.9 kB 1.3 MB/s eta 0:00:01\n",
      "     ---------- --------------------------- 235.5/840.9 kB 2.9 MB/s eta 0:00:01\n",
      "     ---------------- --------------------- 358.4/840.9 kB 2.8 MB/s eta 0:00:01\n",
      "     ----------------------- -------------- 512.0/840.9 kB 2.9 MB/s eta 0:00:01\n",
      "     ------------------------------- ------ 696.3/840.9 kB 3.1 MB/s eta 0:00:01\n",
      "     -------------------------------------- 840.9/840.9 kB 3.1 MB/s eta 0:00:00\n",
      "  Preparing metadata (setup.py): started\n",
      "  Preparing metadata (setup.py): finished with status 'done'\n",
      "Building wheels for collected packages: future\n",
      "  Building wheel for future (setup.py): started\n",
      "  Building wheel for future (setup.py): finished with status 'done'\n",
      "  Created wheel for future: filename=future-0.18.3-py3-none-any.whl size=492070 sha256=86b515436869d681bd2183141d48ecbddfcf9dbcbe6ed6443f9eabb38f7b6288\n",
      "  Stored in directory: c:\\users\\mahesa lizardy\\appdata\\local\\pip\\cache\\wheels\\5e\\a9\\47\\f118e66afd12240e4662752cc22cefae5d97275623aa8ef57d\n",
      "Successfully built future\n",
      "Installing collected packages: future, pyloudnorm\n",
      "Successfully installed future-0.18.3 pyloudnorm-0.1.1\n",
      "Note: you may need to restart the kernel to use updated packages.\n"
     ]
    }
   ],
   "source": [
    "%pip install pyloudnorm"
   ]
  },
  {
   "cell_type": "code",
   "execution_count": 7,
   "metadata": {},
   "outputs": [
    {
     "data": {
      "text/plain": [
       "-20.28950191449947"
      ]
     },
     "execution_count": 7,
     "metadata": {},
     "output_type": "execute_result"
    }
   ],
   "source": [
    "import soundfile as sf\n",
    "import pyloudnorm as pyln\n",
    "data, rate = sf.read(\"dataset/korpusVAD/Audio/Female_1/1.wav\") # load audio (with shape (samples, channels))\n",
    "meter = pyln.Meter(rate) # create BS.1770 meter\n",
    "loudness = meter.integrated_loudness(data) # measure loudness\n",
    "loudness"
   ]
  },
  {
   "cell_type": "code",
   "execution_count": 8,
   "metadata": {},
   "outputs": [
    {
     "data": {
      "text/plain": [
       "-29.61704761860895"
      ]
     },
     "execution_count": 8,
     "metadata": {},
     "output_type": "execute_result"
    }
   ],
   "source": [
    "import soundfile as sf\n",
    "import pyloudnorm as pyln\n",
    "data, rate = sf.read(\"dataset/korpusVAD/Audio/Male_10/70.wav\") # load audio (with shape (samples, channels))\n",
    "meter = pyln.Meter(rate) # create BS.1770 meter\n",
    "loudness = meter.integrated_loudness(data) # measure loudness\n",
    "loudness"
   ]
  },
  {
   "cell_type": "code",
   "execution_count": 11,
   "metadata": {},
   "outputs": [
    {
     "name": "stderr",
     "output_type": "stream",
     "text": [
      "c:\\Users\\mahesa lizardy\\AppData\\Local\\Programs\\Python\\Python310\\lib\\site-packages\\pyloudnorm\\normalize.py:62: UserWarning: Possible clipped samples in output.\n",
      "  warnings.warn(\"Possible clipped samples in output.\")\n"
     ]
    }
   ],
   "source": [
    "import soundfile as sf\n",
    "import pyloudnorm as pyln\n",
    "\n",
    "data, rate = sf.read(\"dataset/korpusVAD/Audio/Male_10/70.wav\") # load audio\n",
    "\n",
    "# peak normalize audio to -1 dB\n",
    "peak_normalized_audio = pyln.normalize.peak(data, -1.0)\n",
    "\n",
    "# measure the loudness first \n",
    "meter = pyln.Meter(rate) # create BS.1770 meter\n",
    "loudness = meter.integrated_loudness(data)\n",
    "\n",
    "# loudness normalize audio to -12 dB LUFS\n",
    "loudness_normalized_audio = pyln.normalize.loudness(data, loudness, -20.0)\n",
    "\n",
    "sf.write('new_file.wav', loudness_normalized_audio , rate)"
   ]
  },
  {
   "cell_type": "code",
   "execution_count": 22,
   "metadata": {},
   "outputs": [
    {
     "name": "stdout",
     "output_type": "stream",
     "text": [
      "Daftar file di Female_1 adalah:\n",
      "Daftar file di Male_1 adalah:\n"
     ]
    },
    {
     "name": "stderr",
     "output_type": "stream",
     "text": [
      "c:\\Users\\mahesa lizardy\\AppData\\Local\\Programs\\Python\\Python310\\lib\\site-packages\\pyloudnorm\\normalize.py:62: UserWarning: Possible clipped samples in output.\n",
      "  warnings.warn(\"Possible clipped samples in output.\")\n"
     ]
    },
    {
     "name": "stdout",
     "output_type": "stream",
     "text": [
      "Daftar file di Male_10 adalah:\n"
     ]
    },
    {
     "name": "stderr",
     "output_type": "stream",
     "text": [
      "c:\\Users\\mahesa lizardy\\AppData\\Local\\Programs\\Python\\Python310\\lib\\site-packages\\pyloudnorm\\normalize.py:62: UserWarning: Possible clipped samples in output.\n",
      "  warnings.warn(\"Possible clipped samples in output.\")\n",
      "c:\\Users\\mahesa lizardy\\AppData\\Local\\Programs\\Python\\Python310\\lib\\site-packages\\pyloudnorm\\normalize.py:62: UserWarning: Possible clipped samples in output.\n",
      "  warnings.warn(\"Possible clipped samples in output.\")\n",
      "c:\\Users\\mahesa lizardy\\AppData\\Local\\Programs\\Python\\Python310\\lib\\site-packages\\pyloudnorm\\normalize.py:62: UserWarning: Possible clipped samples in output.\n",
      "  warnings.warn(\"Possible clipped samples in output.\")\n",
      "c:\\Users\\mahesa lizardy\\AppData\\Local\\Programs\\Python\\Python310\\lib\\site-packages\\pyloudnorm\\normalize.py:62: UserWarning: Possible clipped samples in output.\n",
      "  warnings.warn(\"Possible clipped samples in output.\")\n",
      "c:\\Users\\mahesa lizardy\\AppData\\Local\\Programs\\Python\\Python310\\lib\\site-packages\\pyloudnorm\\normalize.py:62: UserWarning: Possible clipped samples in output.\n",
      "  warnings.warn(\"Possible clipped samples in output.\")\n",
      "c:\\Users\\mahesa lizardy\\AppData\\Local\\Programs\\Python\\Python310\\lib\\site-packages\\pyloudnorm\\normalize.py:62: UserWarning: Possible clipped samples in output.\n",
      "  warnings.warn(\"Possible clipped samples in output.\")\n",
      "c:\\Users\\mahesa lizardy\\AppData\\Local\\Programs\\Python\\Python310\\lib\\site-packages\\pyloudnorm\\normalize.py:62: UserWarning: Possible clipped samples in output.\n",
      "  warnings.warn(\"Possible clipped samples in output.\")\n",
      "c:\\Users\\mahesa lizardy\\AppData\\Local\\Programs\\Python\\Python310\\lib\\site-packages\\pyloudnorm\\normalize.py:62: UserWarning: Possible clipped samples in output.\n",
      "  warnings.warn(\"Possible clipped samples in output.\")\n",
      "c:\\Users\\mahesa lizardy\\AppData\\Local\\Programs\\Python\\Python310\\lib\\site-packages\\pyloudnorm\\normalize.py:62: UserWarning: Possible clipped samples in output.\n",
      "  warnings.warn(\"Possible clipped samples in output.\")\n",
      "c:\\Users\\mahesa lizardy\\AppData\\Local\\Programs\\Python\\Python310\\lib\\site-packages\\pyloudnorm\\normalize.py:62: UserWarning: Possible clipped samples in output.\n",
      "  warnings.warn(\"Possible clipped samples in output.\")\n",
      "c:\\Users\\mahesa lizardy\\AppData\\Local\\Programs\\Python\\Python310\\lib\\site-packages\\pyloudnorm\\normalize.py:62: UserWarning: Possible clipped samples in output.\n",
      "  warnings.warn(\"Possible clipped samples in output.\")\n"
     ]
    },
    {
     "name": "stdout",
     "output_type": "stream",
     "text": [
      "Daftar file di Male_11 adalah:\n"
     ]
    },
    {
     "name": "stderr",
     "output_type": "stream",
     "text": [
      "c:\\Users\\mahesa lizardy\\AppData\\Local\\Programs\\Python\\Python310\\lib\\site-packages\\pyloudnorm\\normalize.py:62: UserWarning: Possible clipped samples in output.\n",
      "  warnings.warn(\"Possible clipped samples in output.\")\n",
      "c:\\Users\\mahesa lizardy\\AppData\\Local\\Programs\\Python\\Python310\\lib\\site-packages\\pyloudnorm\\normalize.py:62: UserWarning: Possible clipped samples in output.\n",
      "  warnings.warn(\"Possible clipped samples in output.\")\n",
      "c:\\Users\\mahesa lizardy\\AppData\\Local\\Programs\\Python\\Python310\\lib\\site-packages\\pyloudnorm\\normalize.py:62: UserWarning: Possible clipped samples in output.\n",
      "  warnings.warn(\"Possible clipped samples in output.\")\n",
      "c:\\Users\\mahesa lizardy\\AppData\\Local\\Programs\\Python\\Python310\\lib\\site-packages\\pyloudnorm\\normalize.py:62: UserWarning: Possible clipped samples in output.\n",
      "  warnings.warn(\"Possible clipped samples in output.\")\n",
      "c:\\Users\\mahesa lizardy\\AppData\\Local\\Programs\\Python\\Python310\\lib\\site-packages\\pyloudnorm\\normalize.py:62: UserWarning: Possible clipped samples in output.\n",
      "  warnings.warn(\"Possible clipped samples in output.\")\n",
      "c:\\Users\\mahesa lizardy\\AppData\\Local\\Programs\\Python\\Python310\\lib\\site-packages\\pyloudnorm\\normalize.py:62: UserWarning: Possible clipped samples in output.\n",
      "  warnings.warn(\"Possible clipped samples in output.\")\n"
     ]
    },
    {
     "name": "stdout",
     "output_type": "stream",
     "text": [
      "Daftar file di Male_12 adalah:\n"
     ]
    },
    {
     "name": "stderr",
     "output_type": "stream",
     "text": [
      "c:\\Users\\mahesa lizardy\\AppData\\Local\\Programs\\Python\\Python310\\lib\\site-packages\\pyloudnorm\\normalize.py:62: UserWarning: Possible clipped samples in output.\n",
      "  warnings.warn(\"Possible clipped samples in output.\")\n",
      "c:\\Users\\mahesa lizardy\\AppData\\Local\\Programs\\Python\\Python310\\lib\\site-packages\\pyloudnorm\\normalize.py:62: UserWarning: Possible clipped samples in output.\n",
      "  warnings.warn(\"Possible clipped samples in output.\")\n",
      "c:\\Users\\mahesa lizardy\\AppData\\Local\\Programs\\Python\\Python310\\lib\\site-packages\\pyloudnorm\\normalize.py:62: UserWarning: Possible clipped samples in output.\n",
      "  warnings.warn(\"Possible clipped samples in output.\")\n",
      "c:\\Users\\mahesa lizardy\\AppData\\Local\\Programs\\Python\\Python310\\lib\\site-packages\\pyloudnorm\\normalize.py:62: UserWarning: Possible clipped samples in output.\n",
      "  warnings.warn(\"Possible clipped samples in output.\")\n"
     ]
    },
    {
     "name": "stdout",
     "output_type": "stream",
     "text": [
      "Daftar file di Male_13 adalah:\n",
      "Daftar file di Male_14 adalah:\n",
      "Daftar file di Male_15 adalah:\n"
     ]
    },
    {
     "name": "stderr",
     "output_type": "stream",
     "text": [
      "c:\\Users\\mahesa lizardy\\AppData\\Local\\Programs\\Python\\Python310\\lib\\site-packages\\pyloudnorm\\normalize.py:62: UserWarning: Possible clipped samples in output.\n",
      "  warnings.warn(\"Possible clipped samples in output.\")\n",
      "c:\\Users\\mahesa lizardy\\AppData\\Local\\Programs\\Python\\Python310\\lib\\site-packages\\pyloudnorm\\normalize.py:62: UserWarning: Possible clipped samples in output.\n",
      "  warnings.warn(\"Possible clipped samples in output.\")\n",
      "c:\\Users\\mahesa lizardy\\AppData\\Local\\Programs\\Python\\Python310\\lib\\site-packages\\pyloudnorm\\normalize.py:62: UserWarning: Possible clipped samples in output.\n",
      "  warnings.warn(\"Possible clipped samples in output.\")\n",
      "c:\\Users\\mahesa lizardy\\AppData\\Local\\Programs\\Python\\Python310\\lib\\site-packages\\pyloudnorm\\normalize.py:62: UserWarning: Possible clipped samples in output.\n",
      "  warnings.warn(\"Possible clipped samples in output.\")\n",
      "c:\\Users\\mahesa lizardy\\AppData\\Local\\Programs\\Python\\Python310\\lib\\site-packages\\pyloudnorm\\normalize.py:62: UserWarning: Possible clipped samples in output.\n",
      "  warnings.warn(\"Possible clipped samples in output.\")\n",
      "c:\\Users\\mahesa lizardy\\AppData\\Local\\Programs\\Python\\Python310\\lib\\site-packages\\pyloudnorm\\normalize.py:62: UserWarning: Possible clipped samples in output.\n",
      "  warnings.warn(\"Possible clipped samples in output.\")\n",
      "c:\\Users\\mahesa lizardy\\AppData\\Local\\Programs\\Python\\Python310\\lib\\site-packages\\pyloudnorm\\normalize.py:62: UserWarning: Possible clipped samples in output.\n",
      "  warnings.warn(\"Possible clipped samples in output.\")\n",
      "c:\\Users\\mahesa lizardy\\AppData\\Local\\Programs\\Python\\Python310\\lib\\site-packages\\pyloudnorm\\normalize.py:62: UserWarning: Possible clipped samples in output.\n",
      "  warnings.warn(\"Possible clipped samples in output.\")\n",
      "c:\\Users\\mahesa lizardy\\AppData\\Local\\Programs\\Python\\Python310\\lib\\site-packages\\pyloudnorm\\normalize.py:62: UserWarning: Possible clipped samples in output.\n",
      "  warnings.warn(\"Possible clipped samples in output.\")\n",
      "c:\\Users\\mahesa lizardy\\AppData\\Local\\Programs\\Python\\Python310\\lib\\site-packages\\pyloudnorm\\normalize.py:62: UserWarning: Possible clipped samples in output.\n",
      "  warnings.warn(\"Possible clipped samples in output.\")\n",
      "c:\\Users\\mahesa lizardy\\AppData\\Local\\Programs\\Python\\Python310\\lib\\site-packages\\pyloudnorm\\normalize.py:62: UserWarning: Possible clipped samples in output.\n",
      "  warnings.warn(\"Possible clipped samples in output.\")\n",
      "c:\\Users\\mahesa lizardy\\AppData\\Local\\Programs\\Python\\Python310\\lib\\site-packages\\pyloudnorm\\normalize.py:62: UserWarning: Possible clipped samples in output.\n",
      "  warnings.warn(\"Possible clipped samples in output.\")\n",
      "c:\\Users\\mahesa lizardy\\AppData\\Local\\Programs\\Python\\Python310\\lib\\site-packages\\pyloudnorm\\normalize.py:62: UserWarning: Possible clipped samples in output.\n",
      "  warnings.warn(\"Possible clipped samples in output.\")\n",
      "c:\\Users\\mahesa lizardy\\AppData\\Local\\Programs\\Python\\Python310\\lib\\site-packages\\pyloudnorm\\normalize.py:62: UserWarning: Possible clipped samples in output.\n",
      "  warnings.warn(\"Possible clipped samples in output.\")\n",
      "c:\\Users\\mahesa lizardy\\AppData\\Local\\Programs\\Python\\Python310\\lib\\site-packages\\pyloudnorm\\normalize.py:62: UserWarning: Possible clipped samples in output.\n",
      "  warnings.warn(\"Possible clipped samples in output.\")\n",
      "c:\\Users\\mahesa lizardy\\AppData\\Local\\Programs\\Python\\Python310\\lib\\site-packages\\pyloudnorm\\normalize.py:62: UserWarning: Possible clipped samples in output.\n",
      "  warnings.warn(\"Possible clipped samples in output.\")\n",
      "c:\\Users\\mahesa lizardy\\AppData\\Local\\Programs\\Python\\Python310\\lib\\site-packages\\pyloudnorm\\normalize.py:62: UserWarning: Possible clipped samples in output.\n",
      "  warnings.warn(\"Possible clipped samples in output.\")\n",
      "c:\\Users\\mahesa lizardy\\AppData\\Local\\Programs\\Python\\Python310\\lib\\site-packages\\pyloudnorm\\normalize.py:62: UserWarning: Possible clipped samples in output.\n",
      "  warnings.warn(\"Possible clipped samples in output.\")\n",
      "c:\\Users\\mahesa lizardy\\AppData\\Local\\Programs\\Python\\Python310\\lib\\site-packages\\pyloudnorm\\normalize.py:62: UserWarning: Possible clipped samples in output.\n",
      "  warnings.warn(\"Possible clipped samples in output.\")\n",
      "c:\\Users\\mahesa lizardy\\AppData\\Local\\Programs\\Python\\Python310\\lib\\site-packages\\pyloudnorm\\normalize.py:62: UserWarning: Possible clipped samples in output.\n",
      "  warnings.warn(\"Possible clipped samples in output.\")\n",
      "c:\\Users\\mahesa lizardy\\AppData\\Local\\Programs\\Python\\Python310\\lib\\site-packages\\pyloudnorm\\normalize.py:62: UserWarning: Possible clipped samples in output.\n",
      "  warnings.warn(\"Possible clipped samples in output.\")\n",
      "c:\\Users\\mahesa lizardy\\AppData\\Local\\Programs\\Python\\Python310\\lib\\site-packages\\pyloudnorm\\normalize.py:62: UserWarning: Possible clipped samples in output.\n",
      "  warnings.warn(\"Possible clipped samples in output.\")\n",
      "c:\\Users\\mahesa lizardy\\AppData\\Local\\Programs\\Python\\Python310\\lib\\site-packages\\pyloudnorm\\normalize.py:62: UserWarning: Possible clipped samples in output.\n",
      "  warnings.warn(\"Possible clipped samples in output.\")\n",
      "c:\\Users\\mahesa lizardy\\AppData\\Local\\Programs\\Python\\Python310\\lib\\site-packages\\pyloudnorm\\normalize.py:62: UserWarning: Possible clipped samples in output.\n",
      "  warnings.warn(\"Possible clipped samples in output.\")\n",
      "c:\\Users\\mahesa lizardy\\AppData\\Local\\Programs\\Python\\Python310\\lib\\site-packages\\pyloudnorm\\normalize.py:62: UserWarning: Possible clipped samples in output.\n",
      "  warnings.warn(\"Possible clipped samples in output.\")\n",
      "c:\\Users\\mahesa lizardy\\AppData\\Local\\Programs\\Python\\Python310\\lib\\site-packages\\pyloudnorm\\normalize.py:62: UserWarning: Possible clipped samples in output.\n",
      "  warnings.warn(\"Possible clipped samples in output.\")\n",
      "c:\\Users\\mahesa lizardy\\AppData\\Local\\Programs\\Python\\Python310\\lib\\site-packages\\pyloudnorm\\normalize.py:62: UserWarning: Possible clipped samples in output.\n",
      "  warnings.warn(\"Possible clipped samples in output.\")\n",
      "c:\\Users\\mahesa lizardy\\AppData\\Local\\Programs\\Python\\Python310\\lib\\site-packages\\pyloudnorm\\normalize.py:62: UserWarning: Possible clipped samples in output.\n",
      "  warnings.warn(\"Possible clipped samples in output.\")\n",
      "c:\\Users\\mahesa lizardy\\AppData\\Local\\Programs\\Python\\Python310\\lib\\site-packages\\pyloudnorm\\normalize.py:62: UserWarning: Possible clipped samples in output.\n",
      "  warnings.warn(\"Possible clipped samples in output.\")\n",
      "c:\\Users\\mahesa lizardy\\AppData\\Local\\Programs\\Python\\Python310\\lib\\site-packages\\pyloudnorm\\normalize.py:62: UserWarning: Possible clipped samples in output.\n",
      "  warnings.warn(\"Possible clipped samples in output.\")\n",
      "c:\\Users\\mahesa lizardy\\AppData\\Local\\Programs\\Python\\Python310\\lib\\site-packages\\pyloudnorm\\normalize.py:62: UserWarning: Possible clipped samples in output.\n",
      "  warnings.warn(\"Possible clipped samples in output.\")\n",
      "c:\\Users\\mahesa lizardy\\AppData\\Local\\Programs\\Python\\Python310\\lib\\site-packages\\pyloudnorm\\normalize.py:62: UserWarning: Possible clipped samples in output.\n",
      "  warnings.warn(\"Possible clipped samples in output.\")\n",
      "c:\\Users\\mahesa lizardy\\AppData\\Local\\Programs\\Python\\Python310\\lib\\site-packages\\pyloudnorm\\normalize.py:62: UserWarning: Possible clipped samples in output.\n",
      "  warnings.warn(\"Possible clipped samples in output.\")\n",
      "c:\\Users\\mahesa lizardy\\AppData\\Local\\Programs\\Python\\Python310\\lib\\site-packages\\pyloudnorm\\normalize.py:62: UserWarning: Possible clipped samples in output.\n",
      "  warnings.warn(\"Possible clipped samples in output.\")\n",
      "c:\\Users\\mahesa lizardy\\AppData\\Local\\Programs\\Python\\Python310\\lib\\site-packages\\pyloudnorm\\normalize.py:62: UserWarning: Possible clipped samples in output.\n",
      "  warnings.warn(\"Possible clipped samples in output.\")\n",
      "c:\\Users\\mahesa lizardy\\AppData\\Local\\Programs\\Python\\Python310\\lib\\site-packages\\pyloudnorm\\normalize.py:62: UserWarning: Possible clipped samples in output.\n",
      "  warnings.warn(\"Possible clipped samples in output.\")\n",
      "c:\\Users\\mahesa lizardy\\AppData\\Local\\Programs\\Python\\Python310\\lib\\site-packages\\pyloudnorm\\normalize.py:62: UserWarning: Possible clipped samples in output.\n",
      "  warnings.warn(\"Possible clipped samples in output.\")\n",
      "c:\\Users\\mahesa lizardy\\AppData\\Local\\Programs\\Python\\Python310\\lib\\site-packages\\pyloudnorm\\normalize.py:62: UserWarning: Possible clipped samples in output.\n",
      "  warnings.warn(\"Possible clipped samples in output.\")\n",
      "c:\\Users\\mahesa lizardy\\AppData\\Local\\Programs\\Python\\Python310\\lib\\site-packages\\pyloudnorm\\normalize.py:62: UserWarning: Possible clipped samples in output.\n",
      "  warnings.warn(\"Possible clipped samples in output.\")\n",
      "c:\\Users\\mahesa lizardy\\AppData\\Local\\Programs\\Python\\Python310\\lib\\site-packages\\pyloudnorm\\normalize.py:62: UserWarning: Possible clipped samples in output.\n",
      "  warnings.warn(\"Possible clipped samples in output.\")\n"
     ]
    },
    {
     "name": "stdout",
     "output_type": "stream",
     "text": [
      "Daftar file di Male_16 adalah:\n"
     ]
    },
    {
     "name": "stderr",
     "output_type": "stream",
     "text": [
      "c:\\Users\\mahesa lizardy\\AppData\\Local\\Programs\\Python\\Python310\\lib\\site-packages\\pyloudnorm\\normalize.py:62: UserWarning: Possible clipped samples in output.\n",
      "  warnings.warn(\"Possible clipped samples in output.\")\n",
      "c:\\Users\\mahesa lizardy\\AppData\\Local\\Programs\\Python\\Python310\\lib\\site-packages\\pyloudnorm\\normalize.py:62: UserWarning: Possible clipped samples in output.\n",
      "  warnings.warn(\"Possible clipped samples in output.\")\n",
      "c:\\Users\\mahesa lizardy\\AppData\\Local\\Programs\\Python\\Python310\\lib\\site-packages\\pyloudnorm\\normalize.py:62: UserWarning: Possible clipped samples in output.\n",
      "  warnings.warn(\"Possible clipped samples in output.\")\n",
      "c:\\Users\\mahesa lizardy\\AppData\\Local\\Programs\\Python\\Python310\\lib\\site-packages\\pyloudnorm\\normalize.py:62: UserWarning: Possible clipped samples in output.\n",
      "  warnings.warn(\"Possible clipped samples in output.\")\n",
      "c:\\Users\\mahesa lizardy\\AppData\\Local\\Programs\\Python\\Python310\\lib\\site-packages\\pyloudnorm\\normalize.py:62: UserWarning: Possible clipped samples in output.\n",
      "  warnings.warn(\"Possible clipped samples in output.\")\n",
      "c:\\Users\\mahesa lizardy\\AppData\\Local\\Programs\\Python\\Python310\\lib\\site-packages\\pyloudnorm\\normalize.py:62: UserWarning: Possible clipped samples in output.\n",
      "  warnings.warn(\"Possible clipped samples in output.\")\n",
      "c:\\Users\\mahesa lizardy\\AppData\\Local\\Programs\\Python\\Python310\\lib\\site-packages\\pyloudnorm\\normalize.py:62: UserWarning: Possible clipped samples in output.\n",
      "  warnings.warn(\"Possible clipped samples in output.\")\n",
      "c:\\Users\\mahesa lizardy\\AppData\\Local\\Programs\\Python\\Python310\\lib\\site-packages\\pyloudnorm\\normalize.py:62: UserWarning: Possible clipped samples in output.\n",
      "  warnings.warn(\"Possible clipped samples in output.\")\n",
      "c:\\Users\\mahesa lizardy\\AppData\\Local\\Programs\\Python\\Python310\\lib\\site-packages\\pyloudnorm\\normalize.py:62: UserWarning: Possible clipped samples in output.\n",
      "  warnings.warn(\"Possible clipped samples in output.\")\n",
      "c:\\Users\\mahesa lizardy\\AppData\\Local\\Programs\\Python\\Python310\\lib\\site-packages\\pyloudnorm\\normalize.py:62: UserWarning: Possible clipped samples in output.\n",
      "  warnings.warn(\"Possible clipped samples in output.\")\n",
      "c:\\Users\\mahesa lizardy\\AppData\\Local\\Programs\\Python\\Python310\\lib\\site-packages\\pyloudnorm\\normalize.py:62: UserWarning: Possible clipped samples in output.\n",
      "  warnings.warn(\"Possible clipped samples in output.\")\n",
      "c:\\Users\\mahesa lizardy\\AppData\\Local\\Programs\\Python\\Python310\\lib\\site-packages\\pyloudnorm\\normalize.py:62: UserWarning: Possible clipped samples in output.\n",
      "  warnings.warn(\"Possible clipped samples in output.\")\n"
     ]
    },
    {
     "name": "stdout",
     "output_type": "stream",
     "text": [
      "Daftar file di Male_2 adalah:\n",
      "Daftar file di Male_3 adalah:\n",
      "Daftar file di Male_4 adalah:\n"
     ]
    },
    {
     "name": "stderr",
     "output_type": "stream",
     "text": [
      "c:\\Users\\mahesa lizardy\\AppData\\Local\\Programs\\Python\\Python310\\lib\\site-packages\\pyloudnorm\\normalize.py:62: UserWarning: Possible clipped samples in output.\n",
      "  warnings.warn(\"Possible clipped samples in output.\")\n"
     ]
    },
    {
     "name": "stdout",
     "output_type": "stream",
     "text": [
      "Daftar file di Male_5 adalah:\n"
     ]
    },
    {
     "name": "stderr",
     "output_type": "stream",
     "text": [
      "c:\\Users\\mahesa lizardy\\AppData\\Local\\Programs\\Python\\Python310\\lib\\site-packages\\pyloudnorm\\normalize.py:62: UserWarning: Possible clipped samples in output.\n",
      "  warnings.warn(\"Possible clipped samples in output.\")\n",
      "c:\\Users\\mahesa lizardy\\AppData\\Local\\Programs\\Python\\Python310\\lib\\site-packages\\pyloudnorm\\normalize.py:62: UserWarning: Possible clipped samples in output.\n",
      "  warnings.warn(\"Possible clipped samples in output.\")\n"
     ]
    },
    {
     "name": "stdout",
     "output_type": "stream",
     "text": [
      "Daftar file di Male_6 adalah:\n",
      "Daftar file di Male_7 adalah:\n",
      "Daftar file di Male_8 adalah:\n",
      "Daftar file di Male_9 adalah:\n"
     ]
    }
   ],
   "source": [
    "import os\n",
    "from scipy.io import wavfile\n",
    "import noisereduce as nr\n",
    "# Path ke folder dataset\n",
    "folder_path = 'dataset/korpus/Audio'\n",
    "directories = [d for d in os.listdir(folder_path) if os.path.isdir(os.path.join(folder_path, d))]\n",
    "data = []\n",
    "i=0\n",
    "for directory in directories:\n",
    "    dir_path = os.path.join(folder_path, directory)\n",
    "    files_in_dir = [f for f in os.listdir(dir_path) if os.path.isfile(os.path.join(dir_path, f))]\n",
    "    print(\"Daftar file di\", directory, \"adalah:\")\n",
    "    for file_name in files_in_dir:\n",
    "        \n",
    "        data, rate = sf.read(\"dataset/korpus/Audio/\"+directory+\"/\"+file_name) # load audio\n",
    "        # peak normalize audio to -1 dB\n",
    "        peak_normalized_audio = pyln.normalize.peak(data, -1.0)\n",
    "\n",
    "        # measure the loudness first \n",
    "        meter = pyln.Meter(rate) # create BS.1770 meter\n",
    "        loudness = meter.integrated_loudness(data)\n",
    "\n",
    "        loudness_normalized_audio = pyln.normalize.loudness(data, loudness, -20.0)\n",
    "        sf.write(\"dataset/korpusNorm/Audio/\"+directory+\"/\"+file_name, loudness_normalized_audio , rate)"
   ]
  },
  {
   "cell_type": "code",
   "execution_count": null,
   "metadata": {},
   "outputs": [],
   "source": []
  }
 ],
 "metadata": {
  "kernelspec": {
   "display_name": "Python 3",
   "language": "python",
   "name": "python3"
  },
  "language_info": {
   "codemirror_mode": {
    "name": "ipython",
    "version": 3
   },
   "file_extension": ".py",
   "mimetype": "text/x-python",
   "name": "python",
   "nbconvert_exporter": "python",
   "pygments_lexer": "ipython3",
   "version": "3.10.4"
  }
 },
 "nbformat": 4,
 "nbformat_minor": 2
}
