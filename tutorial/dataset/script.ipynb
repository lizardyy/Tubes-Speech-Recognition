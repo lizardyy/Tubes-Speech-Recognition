{
 "cells": [
  {
   "cell_type": "markdown",
   "metadata": {},
   "source": [
    "## Audio Pre-Process"
   ]
  },
  {
   "cell_type": "code",
   "execution_count": 9,
   "metadata": {},
   "outputs": [],
   "source": [
    "import soundfile as sf\n",
    "import pyloudnorm as pyln\n",
    "import os"
   ]
  },
  {
   "cell_type": "markdown",
   "metadata": {},
   "source": [
    "### Audio Normalization"
   ]
  },
  {
   "cell_type": "code",
   "execution_count": 11,
   "metadata": {},
   "outputs": [
    {
     "name": "stdout",
     "output_type": "stream",
     "text": [
      "Daftar file di Female_1 adalah:\n",
      "Daftar file di Male_1 adalah:\n"
     ]
    },
    {
     "name": "stderr",
     "output_type": "stream",
     "text": [
      "c:\\Users\\mahesa lizardy\\AppData\\Local\\Programs\\Python\\Python310\\lib\\site-packages\\pyloudnorm\\normalize.py:62: UserWarning: Possible clipped samples in output.\n",
      "  warnings.warn(\"Possible clipped samples in output.\")\n"
     ]
    },
    {
     "name": "stdout",
     "output_type": "stream",
     "text": [
      "Daftar file di Male_10 adalah:\n"
     ]
    },
    {
     "name": "stderr",
     "output_type": "stream",
     "text": [
      "c:\\Users\\mahesa lizardy\\AppData\\Local\\Programs\\Python\\Python310\\lib\\site-packages\\pyloudnorm\\normalize.py:62: UserWarning: Possible clipped samples in output.\n",
      "  warnings.warn(\"Possible clipped samples in output.\")\n",
      "c:\\Users\\mahesa lizardy\\AppData\\Local\\Programs\\Python\\Python310\\lib\\site-packages\\pyloudnorm\\normalize.py:62: UserWarning: Possible clipped samples in output.\n",
      "  warnings.warn(\"Possible clipped samples in output.\")\n",
      "c:\\Users\\mahesa lizardy\\AppData\\Local\\Programs\\Python\\Python310\\lib\\site-packages\\pyloudnorm\\normalize.py:62: UserWarning: Possible clipped samples in output.\n",
      "  warnings.warn(\"Possible clipped samples in output.\")\n",
      "c:\\Users\\mahesa lizardy\\AppData\\Local\\Programs\\Python\\Python310\\lib\\site-packages\\pyloudnorm\\normalize.py:62: UserWarning: Possible clipped samples in output.\n",
      "  warnings.warn(\"Possible clipped samples in output.\")\n",
      "c:\\Users\\mahesa lizardy\\AppData\\Local\\Programs\\Python\\Python310\\lib\\site-packages\\pyloudnorm\\normalize.py:62: UserWarning: Possible clipped samples in output.\n",
      "  warnings.warn(\"Possible clipped samples in output.\")\n",
      "c:\\Users\\mahesa lizardy\\AppData\\Local\\Programs\\Python\\Python310\\lib\\site-packages\\pyloudnorm\\normalize.py:62: UserWarning: Possible clipped samples in output.\n",
      "  warnings.warn(\"Possible clipped samples in output.\")\n",
      "c:\\Users\\mahesa lizardy\\AppData\\Local\\Programs\\Python\\Python310\\lib\\site-packages\\pyloudnorm\\normalize.py:62: UserWarning: Possible clipped samples in output.\n",
      "  warnings.warn(\"Possible clipped samples in output.\")\n",
      "c:\\Users\\mahesa lizardy\\AppData\\Local\\Programs\\Python\\Python310\\lib\\site-packages\\pyloudnorm\\normalize.py:62: UserWarning: Possible clipped samples in output.\n",
      "  warnings.warn(\"Possible clipped samples in output.\")\n",
      "c:\\Users\\mahesa lizardy\\AppData\\Local\\Programs\\Python\\Python310\\lib\\site-packages\\pyloudnorm\\normalize.py:62: UserWarning: Possible clipped samples in output.\n",
      "  warnings.warn(\"Possible clipped samples in output.\")\n",
      "c:\\Users\\mahesa lizardy\\AppData\\Local\\Programs\\Python\\Python310\\lib\\site-packages\\pyloudnorm\\normalize.py:62: UserWarning: Possible clipped samples in output.\n",
      "  warnings.warn(\"Possible clipped samples in output.\")\n",
      "c:\\Users\\mahesa lizardy\\AppData\\Local\\Programs\\Python\\Python310\\lib\\site-packages\\pyloudnorm\\normalize.py:62: UserWarning: Possible clipped samples in output.\n",
      "  warnings.warn(\"Possible clipped samples in output.\")\n"
     ]
    },
    {
     "name": "stdout",
     "output_type": "stream",
     "text": [
      "Daftar file di Male_11 adalah:\n"
     ]
    },
    {
     "name": "stderr",
     "output_type": "stream",
     "text": [
      "c:\\Users\\mahesa lizardy\\AppData\\Local\\Programs\\Python\\Python310\\lib\\site-packages\\pyloudnorm\\normalize.py:62: UserWarning: Possible clipped samples in output.\n",
      "  warnings.warn(\"Possible clipped samples in output.\")\n",
      "c:\\Users\\mahesa lizardy\\AppData\\Local\\Programs\\Python\\Python310\\lib\\site-packages\\pyloudnorm\\normalize.py:62: UserWarning: Possible clipped samples in output.\n",
      "  warnings.warn(\"Possible clipped samples in output.\")\n",
      "c:\\Users\\mahesa lizardy\\AppData\\Local\\Programs\\Python\\Python310\\lib\\site-packages\\pyloudnorm\\normalize.py:62: UserWarning: Possible clipped samples in output.\n",
      "  warnings.warn(\"Possible clipped samples in output.\")\n",
      "c:\\Users\\mahesa lizardy\\AppData\\Local\\Programs\\Python\\Python310\\lib\\site-packages\\pyloudnorm\\normalize.py:62: UserWarning: Possible clipped samples in output.\n",
      "  warnings.warn(\"Possible clipped samples in output.\")\n",
      "c:\\Users\\mahesa lizardy\\AppData\\Local\\Programs\\Python\\Python310\\lib\\site-packages\\pyloudnorm\\normalize.py:62: UserWarning: Possible clipped samples in output.\n",
      "  warnings.warn(\"Possible clipped samples in output.\")\n"
     ]
    },
    {
     "name": "stdout",
     "output_type": "stream",
     "text": [
      "Daftar file di Male_12 adalah:\n"
     ]
    },
    {
     "name": "stderr",
     "output_type": "stream",
     "text": [
      "c:\\Users\\mahesa lizardy\\AppData\\Local\\Programs\\Python\\Python310\\lib\\site-packages\\pyloudnorm\\normalize.py:62: UserWarning: Possible clipped samples in output.\n",
      "  warnings.warn(\"Possible clipped samples in output.\")\n",
      "c:\\Users\\mahesa lizardy\\AppData\\Local\\Programs\\Python\\Python310\\lib\\site-packages\\pyloudnorm\\normalize.py:62: UserWarning: Possible clipped samples in output.\n",
      "  warnings.warn(\"Possible clipped samples in output.\")\n",
      "c:\\Users\\mahesa lizardy\\AppData\\Local\\Programs\\Python\\Python310\\lib\\site-packages\\pyloudnorm\\normalize.py:62: UserWarning: Possible clipped samples in output.\n",
      "  warnings.warn(\"Possible clipped samples in output.\")\n",
      "c:\\Users\\mahesa lizardy\\AppData\\Local\\Programs\\Python\\Python310\\lib\\site-packages\\pyloudnorm\\normalize.py:62: UserWarning: Possible clipped samples in output.\n",
      "  warnings.warn(\"Possible clipped samples in output.\")\n",
      "c:\\Users\\mahesa lizardy\\AppData\\Local\\Programs\\Python\\Python310\\lib\\site-packages\\pyloudnorm\\normalize.py:62: UserWarning: Possible clipped samples in output.\n",
      "  warnings.warn(\"Possible clipped samples in output.\")\n"
     ]
    },
    {
     "name": "stdout",
     "output_type": "stream",
     "text": [
      "Daftar file di Male_13 adalah:\n",
      "Daftar file di Male_14 adalah:\n",
      "Daftar file di Male_15 adalah:\n"
     ]
    },
    {
     "name": "stderr",
     "output_type": "stream",
     "text": [
      "c:\\Users\\mahesa lizardy\\AppData\\Local\\Programs\\Python\\Python310\\lib\\site-packages\\pyloudnorm\\normalize.py:62: UserWarning: Possible clipped samples in output.\n",
      "  warnings.warn(\"Possible clipped samples in output.\")\n",
      "c:\\Users\\mahesa lizardy\\AppData\\Local\\Programs\\Python\\Python310\\lib\\site-packages\\pyloudnorm\\normalize.py:62: UserWarning: Possible clipped samples in output.\n",
      "  warnings.warn(\"Possible clipped samples in output.\")\n",
      "c:\\Users\\mahesa lizardy\\AppData\\Local\\Programs\\Python\\Python310\\lib\\site-packages\\pyloudnorm\\normalize.py:62: UserWarning: Possible clipped samples in output.\n",
      "  warnings.warn(\"Possible clipped samples in output.\")\n",
      "c:\\Users\\mahesa lizardy\\AppData\\Local\\Programs\\Python\\Python310\\lib\\site-packages\\pyloudnorm\\normalize.py:62: UserWarning: Possible clipped samples in output.\n",
      "  warnings.warn(\"Possible clipped samples in output.\")\n",
      "c:\\Users\\mahesa lizardy\\AppData\\Local\\Programs\\Python\\Python310\\lib\\site-packages\\pyloudnorm\\normalize.py:62: UserWarning: Possible clipped samples in output.\n",
      "  warnings.warn(\"Possible clipped samples in output.\")\n",
      "c:\\Users\\mahesa lizardy\\AppData\\Local\\Programs\\Python\\Python310\\lib\\site-packages\\pyloudnorm\\normalize.py:62: UserWarning: Possible clipped samples in output.\n",
      "  warnings.warn(\"Possible clipped samples in output.\")\n",
      "c:\\Users\\mahesa lizardy\\AppData\\Local\\Programs\\Python\\Python310\\lib\\site-packages\\pyloudnorm\\normalize.py:62: UserWarning: Possible clipped samples in output.\n",
      "  warnings.warn(\"Possible clipped samples in output.\")\n",
      "c:\\Users\\mahesa lizardy\\AppData\\Local\\Programs\\Python\\Python310\\lib\\site-packages\\pyloudnorm\\normalize.py:62: UserWarning: Possible clipped samples in output.\n",
      "  warnings.warn(\"Possible clipped samples in output.\")\n",
      "c:\\Users\\mahesa lizardy\\AppData\\Local\\Programs\\Python\\Python310\\lib\\site-packages\\pyloudnorm\\normalize.py:62: UserWarning: Possible clipped samples in output.\n",
      "  warnings.warn(\"Possible clipped samples in output.\")\n",
      "c:\\Users\\mahesa lizardy\\AppData\\Local\\Programs\\Python\\Python310\\lib\\site-packages\\pyloudnorm\\normalize.py:62: UserWarning: Possible clipped samples in output.\n",
      "  warnings.warn(\"Possible clipped samples in output.\")\n",
      "c:\\Users\\mahesa lizardy\\AppData\\Local\\Programs\\Python\\Python310\\lib\\site-packages\\pyloudnorm\\normalize.py:62: UserWarning: Possible clipped samples in output.\n",
      "  warnings.warn(\"Possible clipped samples in output.\")\n",
      "c:\\Users\\mahesa lizardy\\AppData\\Local\\Programs\\Python\\Python310\\lib\\site-packages\\pyloudnorm\\normalize.py:62: UserWarning: Possible clipped samples in output.\n",
      "  warnings.warn(\"Possible clipped samples in output.\")\n",
      "c:\\Users\\mahesa lizardy\\AppData\\Local\\Programs\\Python\\Python310\\lib\\site-packages\\pyloudnorm\\normalize.py:62: UserWarning: Possible clipped samples in output.\n",
      "  warnings.warn(\"Possible clipped samples in output.\")\n",
      "c:\\Users\\mahesa lizardy\\AppData\\Local\\Programs\\Python\\Python310\\lib\\site-packages\\pyloudnorm\\normalize.py:62: UserWarning: Possible clipped samples in output.\n",
      "  warnings.warn(\"Possible clipped samples in output.\")\n",
      "c:\\Users\\mahesa lizardy\\AppData\\Local\\Programs\\Python\\Python310\\lib\\site-packages\\pyloudnorm\\normalize.py:62: UserWarning: Possible clipped samples in output.\n",
      "  warnings.warn(\"Possible clipped samples in output.\")\n",
      "c:\\Users\\mahesa lizardy\\AppData\\Local\\Programs\\Python\\Python310\\lib\\site-packages\\pyloudnorm\\normalize.py:62: UserWarning: Possible clipped samples in output.\n",
      "  warnings.warn(\"Possible clipped samples in output.\")\n",
      "c:\\Users\\mahesa lizardy\\AppData\\Local\\Programs\\Python\\Python310\\lib\\site-packages\\pyloudnorm\\normalize.py:62: UserWarning: Possible clipped samples in output.\n",
      "  warnings.warn(\"Possible clipped samples in output.\")\n",
      "c:\\Users\\mahesa lizardy\\AppData\\Local\\Programs\\Python\\Python310\\lib\\site-packages\\pyloudnorm\\normalize.py:62: UserWarning: Possible clipped samples in output.\n",
      "  warnings.warn(\"Possible clipped samples in output.\")\n",
      "c:\\Users\\mahesa lizardy\\AppData\\Local\\Programs\\Python\\Python310\\lib\\site-packages\\pyloudnorm\\normalize.py:62: UserWarning: Possible clipped samples in output.\n",
      "  warnings.warn(\"Possible clipped samples in output.\")\n",
      "c:\\Users\\mahesa lizardy\\AppData\\Local\\Programs\\Python\\Python310\\lib\\site-packages\\pyloudnorm\\normalize.py:62: UserWarning: Possible clipped samples in output.\n",
      "  warnings.warn(\"Possible clipped samples in output.\")\n",
      "c:\\Users\\mahesa lizardy\\AppData\\Local\\Programs\\Python\\Python310\\lib\\site-packages\\pyloudnorm\\normalize.py:62: UserWarning: Possible clipped samples in output.\n",
      "  warnings.warn(\"Possible clipped samples in output.\")\n",
      "c:\\Users\\mahesa lizardy\\AppData\\Local\\Programs\\Python\\Python310\\lib\\site-packages\\pyloudnorm\\normalize.py:62: UserWarning: Possible clipped samples in output.\n",
      "  warnings.warn(\"Possible clipped samples in output.\")\n",
      "c:\\Users\\mahesa lizardy\\AppData\\Local\\Programs\\Python\\Python310\\lib\\site-packages\\pyloudnorm\\normalize.py:62: UserWarning: Possible clipped samples in output.\n",
      "  warnings.warn(\"Possible clipped samples in output.\")\n",
      "c:\\Users\\mahesa lizardy\\AppData\\Local\\Programs\\Python\\Python310\\lib\\site-packages\\pyloudnorm\\normalize.py:62: UserWarning: Possible clipped samples in output.\n",
      "  warnings.warn(\"Possible clipped samples in output.\")\n",
      "c:\\Users\\mahesa lizardy\\AppData\\Local\\Programs\\Python\\Python310\\lib\\site-packages\\pyloudnorm\\normalize.py:62: UserWarning: Possible clipped samples in output.\n",
      "  warnings.warn(\"Possible clipped samples in output.\")\n",
      "c:\\Users\\mahesa lizardy\\AppData\\Local\\Programs\\Python\\Python310\\lib\\site-packages\\pyloudnorm\\normalize.py:62: UserWarning: Possible clipped samples in output.\n",
      "  warnings.warn(\"Possible clipped samples in output.\")\n",
      "c:\\Users\\mahesa lizardy\\AppData\\Local\\Programs\\Python\\Python310\\lib\\site-packages\\pyloudnorm\\normalize.py:62: UserWarning: Possible clipped samples in output.\n",
      "  warnings.warn(\"Possible clipped samples in output.\")\n",
      "c:\\Users\\mahesa lizardy\\AppData\\Local\\Programs\\Python\\Python310\\lib\\site-packages\\pyloudnorm\\normalize.py:62: UserWarning: Possible clipped samples in output.\n",
      "  warnings.warn(\"Possible clipped samples in output.\")\n",
      "c:\\Users\\mahesa lizardy\\AppData\\Local\\Programs\\Python\\Python310\\lib\\site-packages\\pyloudnorm\\normalize.py:62: UserWarning: Possible clipped samples in output.\n",
      "  warnings.warn(\"Possible clipped samples in output.\")\n",
      "c:\\Users\\mahesa lizardy\\AppData\\Local\\Programs\\Python\\Python310\\lib\\site-packages\\pyloudnorm\\normalize.py:62: UserWarning: Possible clipped samples in output.\n",
      "  warnings.warn(\"Possible clipped samples in output.\")\n"
     ]
    },
    {
     "name": "stdout",
     "output_type": "stream",
     "text": [
      "Daftar file di Male_16 adalah:\n"
     ]
    },
    {
     "name": "stderr",
     "output_type": "stream",
     "text": [
      "c:\\Users\\mahesa lizardy\\AppData\\Local\\Programs\\Python\\Python310\\lib\\site-packages\\pyloudnorm\\normalize.py:62: UserWarning: Possible clipped samples in output.\n",
      "  warnings.warn(\"Possible clipped samples in output.\")\n",
      "c:\\Users\\mahesa lizardy\\AppData\\Local\\Programs\\Python\\Python310\\lib\\site-packages\\pyloudnorm\\normalize.py:62: UserWarning: Possible clipped samples in output.\n",
      "  warnings.warn(\"Possible clipped samples in output.\")\n",
      "c:\\Users\\mahesa lizardy\\AppData\\Local\\Programs\\Python\\Python310\\lib\\site-packages\\pyloudnorm\\normalize.py:62: UserWarning: Possible clipped samples in output.\n",
      "  warnings.warn(\"Possible clipped samples in output.\")\n",
      "c:\\Users\\mahesa lizardy\\AppData\\Local\\Programs\\Python\\Python310\\lib\\site-packages\\pyloudnorm\\normalize.py:62: UserWarning: Possible clipped samples in output.\n",
      "  warnings.warn(\"Possible clipped samples in output.\")\n",
      "c:\\Users\\mahesa lizardy\\AppData\\Local\\Programs\\Python\\Python310\\lib\\site-packages\\pyloudnorm\\normalize.py:62: UserWarning: Possible clipped samples in output.\n",
      "  warnings.warn(\"Possible clipped samples in output.\")\n",
      "c:\\Users\\mahesa lizardy\\AppData\\Local\\Programs\\Python\\Python310\\lib\\site-packages\\pyloudnorm\\normalize.py:62: UserWarning: Possible clipped samples in output.\n",
      "  warnings.warn(\"Possible clipped samples in output.\")\n",
      "c:\\Users\\mahesa lizardy\\AppData\\Local\\Programs\\Python\\Python310\\lib\\site-packages\\pyloudnorm\\normalize.py:62: UserWarning: Possible clipped samples in output.\n",
      "  warnings.warn(\"Possible clipped samples in output.\")\n",
      "c:\\Users\\mahesa lizardy\\AppData\\Local\\Programs\\Python\\Python310\\lib\\site-packages\\pyloudnorm\\normalize.py:62: UserWarning: Possible clipped samples in output.\n",
      "  warnings.warn(\"Possible clipped samples in output.\")\n",
      "c:\\Users\\mahesa lizardy\\AppData\\Local\\Programs\\Python\\Python310\\lib\\site-packages\\pyloudnorm\\normalize.py:62: UserWarning: Possible clipped samples in output.\n",
      "  warnings.warn(\"Possible clipped samples in output.\")\n",
      "c:\\Users\\mahesa lizardy\\AppData\\Local\\Programs\\Python\\Python310\\lib\\site-packages\\pyloudnorm\\normalize.py:62: UserWarning: Possible clipped samples in output.\n",
      "  warnings.warn(\"Possible clipped samples in output.\")\n",
      "c:\\Users\\mahesa lizardy\\AppData\\Local\\Programs\\Python\\Python310\\lib\\site-packages\\pyloudnorm\\normalize.py:62: UserWarning: Possible clipped samples in output.\n",
      "  warnings.warn(\"Possible clipped samples in output.\")\n",
      "c:\\Users\\mahesa lizardy\\AppData\\Local\\Programs\\Python\\Python310\\lib\\site-packages\\pyloudnorm\\normalize.py:62: UserWarning: Possible clipped samples in output.\n",
      "  warnings.warn(\"Possible clipped samples in output.\")\n",
      "c:\\Users\\mahesa lizardy\\AppData\\Local\\Programs\\Python\\Python310\\lib\\site-packages\\pyloudnorm\\normalize.py:62: UserWarning: Possible clipped samples in output.\n",
      "  warnings.warn(\"Possible clipped samples in output.\")\n",
      "c:\\Users\\mahesa lizardy\\AppData\\Local\\Programs\\Python\\Python310\\lib\\site-packages\\pyloudnorm\\normalize.py:62: UserWarning: Possible clipped samples in output.\n",
      "  warnings.warn(\"Possible clipped samples in output.\")\n",
      "c:\\Users\\mahesa lizardy\\AppData\\Local\\Programs\\Python\\Python310\\lib\\site-packages\\pyloudnorm\\normalize.py:62: UserWarning: Possible clipped samples in output.\n",
      "  warnings.warn(\"Possible clipped samples in output.\")\n",
      "c:\\Users\\mahesa lizardy\\AppData\\Local\\Programs\\Python\\Python310\\lib\\site-packages\\pyloudnorm\\normalize.py:62: UserWarning: Possible clipped samples in output.\n",
      "  warnings.warn(\"Possible clipped samples in output.\")\n",
      "c:\\Users\\mahesa lizardy\\AppData\\Local\\Programs\\Python\\Python310\\lib\\site-packages\\pyloudnorm\\normalize.py:62: UserWarning: Possible clipped samples in output.\n",
      "  warnings.warn(\"Possible clipped samples in output.\")\n",
      "c:\\Users\\mahesa lizardy\\AppData\\Local\\Programs\\Python\\Python310\\lib\\site-packages\\pyloudnorm\\normalize.py:62: UserWarning: Possible clipped samples in output.\n",
      "  warnings.warn(\"Possible clipped samples in output.\")\n",
      "c:\\Users\\mahesa lizardy\\AppData\\Local\\Programs\\Python\\Python310\\lib\\site-packages\\pyloudnorm\\normalize.py:62: UserWarning: Possible clipped samples in output.\n",
      "  warnings.warn(\"Possible clipped samples in output.\")\n",
      "c:\\Users\\mahesa lizardy\\AppData\\Local\\Programs\\Python\\Python310\\lib\\site-packages\\pyloudnorm\\normalize.py:62: UserWarning: Possible clipped samples in output.\n",
      "  warnings.warn(\"Possible clipped samples in output.\")\n",
      "c:\\Users\\mahesa lizardy\\AppData\\Local\\Programs\\Python\\Python310\\lib\\site-packages\\pyloudnorm\\normalize.py:62: UserWarning: Possible clipped samples in output.\n",
      "  warnings.warn(\"Possible clipped samples in output.\")\n",
      "c:\\Users\\mahesa lizardy\\AppData\\Local\\Programs\\Python\\Python310\\lib\\site-packages\\pyloudnorm\\normalize.py:62: UserWarning: Possible clipped samples in output.\n",
      "  warnings.warn(\"Possible clipped samples in output.\")\n"
     ]
    },
    {
     "name": "stdout",
     "output_type": "stream",
     "text": [
      "Daftar file di Male_2 adalah:\n",
      "Daftar file di Male_3 adalah:\n",
      "Daftar file di Male_4 adalah:\n"
     ]
    },
    {
     "name": "stderr",
     "output_type": "stream",
     "text": [
      "c:\\Users\\mahesa lizardy\\AppData\\Local\\Programs\\Python\\Python310\\lib\\site-packages\\pyloudnorm\\normalize.py:62: UserWarning: Possible clipped samples in output.\n",
      "  warnings.warn(\"Possible clipped samples in output.\")\n"
     ]
    },
    {
     "name": "stdout",
     "output_type": "stream",
     "text": [
      "Daftar file di Male_5 adalah:\n"
     ]
    },
    {
     "name": "stderr",
     "output_type": "stream",
     "text": [
      "c:\\Users\\mahesa lizardy\\AppData\\Local\\Programs\\Python\\Python310\\lib\\site-packages\\pyloudnorm\\normalize.py:62: UserWarning: Possible clipped samples in output.\n",
      "  warnings.warn(\"Possible clipped samples in output.\")\n",
      "c:\\Users\\mahesa lizardy\\AppData\\Local\\Programs\\Python\\Python310\\lib\\site-packages\\pyloudnorm\\normalize.py:62: UserWarning: Possible clipped samples in output.\n",
      "  warnings.warn(\"Possible clipped samples in output.\")\n"
     ]
    },
    {
     "name": "stdout",
     "output_type": "stream",
     "text": [
      "Daftar file di Male_6 adalah:\n",
      "Daftar file di Male_7 adalah:\n",
      "Daftar file di Male_8 adalah:\n",
      "Daftar file di Male_9 adalah:\n"
     ]
    }
   ],
   "source": [
    "folder_path = 'Audio'\n",
    "directories = [d for d in os.listdir(folder_path) if os.path.isdir(os.path.join(folder_path, d))]\n",
    "data = []\n",
    "for directory in directories:\n",
    "    dir_path = os.path.join(folder_path, directory)\n",
    "    files_in_dir = [f for f in os.listdir(dir_path) if os.path.isfile(os.path.join(dir_path, f))]\n",
    "    print(\"Daftar file di\", directory, \"adalah:\")\n",
    "    for file_name in files_in_dir:\n",
    "        \n",
    "        data, rate = sf.read(\"Audio/\"+directory+\"/\"+file_name) # load audio\n",
    "        # peak normalize audio to -1 dB\n",
    "        peak_normalized_audio = pyln.normalize.peak(data, -1.0)\n",
    "\n",
    "        # measure the loudness first \n",
    "        meter = pyln.Meter(rate) # create BS.1770 meter\n",
    "        loudness = meter.integrated_loudness(data)\n",
    "\n",
    "        loudness_normalized_audio = pyln.normalize.loudness(data, loudness, -20.0)\n",
    "        sf.write(\"wav/\"+directory+\"/\"+file_name, loudness_normalized_audio , rate)"
   ]
  },
  {
   "cell_type": "code",
   "execution_count": 12,
   "metadata": {},
   "outputs": [],
   "source": [
    "from pydub import AudioSegment\n",
    "\n",
    "def detect_leading_silence(sound, silence_threshold=-40.0, chunk_size=10):\n",
    "\n",
    "    trim_ms = 0 # ms\n",
    "\n",
    "    assert chunk_size > 0 # to avoid infinite loop\n",
    "    while sound[trim_ms:trim_ms+chunk_size].dBFS < silence_threshold and trim_ms < len(sound):\n",
    "        trim_ms += chunk_size\n",
    "\n",
    "    return trim_ms"
   ]
  },
  {
   "cell_type": "markdown",
   "metadata": {},
   "source": [
    "### Change to mono and VAD"
   ]
  },
  {
   "cell_type": "code",
   "execution_count": 13,
   "metadata": {},
   "outputs": [
    {
     "name": "stderr",
     "output_type": "stream",
     "text": [
      "c:\\Users\\mahesa lizardy\\AppData\\Local\\Programs\\Python\\Python310\\lib\\site-packages\\tqdm\\auto.py:21: TqdmWarning: IProgress not found. Please update jupyter and ipywidgets. See https://ipywidgets.readthedocs.io/en/stable/user_install.html\n",
      "  from .autonotebook import tqdm as notebook_tqdm\n"
     ]
    },
    {
     "name": "stdout",
     "output_type": "stream",
     "text": [
      "Daftar file di Female_1 adalah:\n",
      "Daftar file di Male_1 adalah:\n",
      "Daftar file di Male_10 adalah:\n",
      "Daftar file di Male_11 adalah:\n",
      "Daftar file di Male_12 adalah:\n",
      "Daftar file di Male_13 adalah:\n",
      "Daftar file di Male_14 adalah:\n",
      "Daftar file di Male_15 adalah:\n",
      "Daftar file di Male_16 adalah:\n",
      "Daftar file di Male_2 adalah:\n",
      "Daftar file di Male_3 adalah:\n",
      "Daftar file di Male_4 adalah:\n",
      "Daftar file di Male_5 adalah:\n",
      "Daftar file di Male_6 adalah:\n",
      "Daftar file di Male_7 adalah:\n",
      "Daftar file di Male_8 adalah:\n",
      "Daftar file di Male_9 adalah:\n"
     ]
    }
   ],
   "source": [
    "import os\n",
    "from scipy.io import wavfile\n",
    "import noisereduce as nr\n",
    "# Path ke folder dataset\n",
    "folder_path = 'wav/'\n",
    "directories = [d for d in os.listdir(folder_path) if os.path.isdir(os.path.join(folder_path, d))]\n",
    "data = []\n",
    "i=0\n",
    "for directory in directories:\n",
    "    dir_path = os.path.join(folder_path, directory)\n",
    "    files_in_dir = [f for f in os.listdir(dir_path) if os.path.isfile(os.path.join(dir_path, f))]\n",
    "    print(\"Daftar file di\", directory, \"adalah:\")\n",
    "    for file_name in files_in_dir:\n",
    "        sound = AudioSegment.from_file(\"wav/\"+directory+\"/\"+file_name, format=\"wav\")\n",
    "        sound = sound.set_channels(1)\n",
    "        start_trim = detect_leading_silence(sound)\n",
    "        end_trim = detect_leading_silence(sound.reverse())\n",
    "\n",
    "        duration = len(sound)    \n",
    "        trimmed_sound = sound[start_trim:duration-end_trim]\n",
    "        trimmed_sound.export(\"wav/\"+directory+\"/\"+directory+\"_\"+file_name, format=\"wav\")\n"
   ]
  },
  {
   "cell_type": "markdown",
   "metadata": {},
   "source": [
    "### Change filename for training"
   ]
  },
  {
   "cell_type": "code",
   "execution_count": 9,
   "metadata": {},
   "outputs": [
    {
     "name": "stdout",
     "output_type": "stream",
     "text": [
      "Collecting natsort\n",
      "  Downloading natsort-8.4.0-py3-none-any.whl.metadata (21 kB)\n",
      "Downloading natsort-8.4.0-py3-none-any.whl (38 kB)\n",
      "Installing collected packages: natsort\n",
      "Successfully installed natsort-8.4.0\n",
      "Note: you may need to restart the kernel to use updated packages.\n"
     ]
    }
   ],
   "source": [
    "# %pip install natsort"
   ]
  },
  {
   "cell_type": "code",
   "execution_count": 14,
   "metadata": {},
   "outputs": [
    {
     "name": "stdout",
     "output_type": "stream",
     "text": [
      "Daftar file di Female_1 adalah:\n",
      "Daftar file di Male_1 adalah:\n",
      "Daftar file di Male_10 adalah:\n",
      "Daftar file di Male_11 adalah:\n",
      "Daftar file di Male_12 adalah:\n",
      "Daftar file di Male_13 adalah:\n",
      "Daftar file di Male_14 adalah:\n",
      "Daftar file di Male_15 adalah:\n",
      "Daftar file di Male_16 adalah:\n",
      "Daftar file di Male_2 adalah:\n",
      "Daftar file di Male_3 adalah:\n",
      "Daftar file di Male_4 adalah:\n",
      "Daftar file di Male_5 adalah:\n",
      "Daftar file di Male_6 adalah:\n",
      "Daftar file di Male_7 adalah:\n",
      "Daftar file di Male_8 adalah:\n",
      "Daftar file di Male_9 adalah:\n"
     ]
    }
   ],
   "source": [
    "import os\n",
    "from scipy.io import wavfile\n",
    "import noisereduce as nr\n",
    "# Path ke folder dataset\n",
    "folder_path = 'wav/'\n",
    "directories = [d for d in os.listdir(folder_path) if os.path.isdir(os.path.join(folder_path, d))]\n",
    "data = []\n",
    "i=0\n",
    "for directory in directories:\n",
    "    dir_path = os.path.join(folder_path, directory)\n",
    "    files_in_dir = [f for f in os.listdir(dir_path) if os.path.isfile(os.path.join(dir_path, f))]\n",
    "    print(\"Daftar file di\", directory, \"adalah:\")\n",
    "    for file_name in files_in_dir:\n",
    "\n",
    "        os.rename(\"wav/\"+directory+\"/\"+file_name,  \"wav/\"+directory+\"/\"+directory+\"_\"+file_name)\n"
   ]
  },
  {
   "cell_type": "markdown",
   "metadata": {},
   "source": [
    "## Building corpus file and label"
   ]
  },
  {
   "cell_type": "code",
   "execution_count": 157,
   "metadata": {},
   "outputs": [],
   "source": [
    "import os\n",
    "import csv\n",
    "from natsort import natsorted\n",
    "def extract_info_from_filename(filename):\n",
    "    split_filename = filename.split('.')[0]\n",
    "    return split_filename\n",
    "folder_path = 'Audio'\n",
    "forder_label = 'label/'\n",
    "directories = [d for d in os.listdir(folder_path) if os.path.isdir(os.path.join(folder_path, d))]\n",
    "directories = sorted(directories, key=lambda x: int(x.split('_')[-1]))\n",
    "data_path = []\n",
    "label=[]\n",
    "word_list=[]\n",
    "language_model=[]\n",
    "for directory in directories:\n",
    "    dir_path = os.path.join(folder_path, directory)\n",
    "    files_in_dir = [f for f in os.listdir(dir_path) if os.path.isfile(os.path.join(dir_path, f))]\n",
    "    files_in_dir = natsorted(files_in_dir)\n",
    "    # print(\"Daftar file di\", directory, \"adalah:\")\n",
    "    for file_name in files_in_dir:\n",
    "        angka = extract_info_from_filename(file_name)\n",
    "        if directory != 'Male_8':\n",
    "            angka_label = angka\n",
    "        else:\n",
    "            angka_label = str(int(angka)-1)\n",
    "        with open(forder_label+directory +'/'+angka_label+'.txt') as f:\n",
    "            lines = f.readlines()[0]\n",
    "\n",
    "        data_path.append(f\"{directory}/{directory}_{angka}\")\n",
    "        word = lines.replace('\"', '').replace(\"'\", \"\").replace('-', ' ').replace(',', '').replace('\\n', '').replace('?', '').replace('.', '').replace('!', '')\n",
    "        word = word.replace(\"10\",\"sepuluh\").replace(\"2\",\"dua\").replace(\"3\",\"tiga\").replace(\"4\",\"empat\").replace(\"5\",\"lima\").replace(\"6\",\"enam\").replace(\"7\",\"tujuh\").replace(\"8\",\"delapan\").replace(\"9\",\"sembilan\")\n",
    "        word = word.upper()\n",
    "        word_list.append(word)\n",
    "        label.append(\"<s> \"+word+\" </s> \" + \"(\"+directory+\"_\"+angka+\")\")\n",
    "        language_model.append(\"<s> \"+word+\" </s>\")\n",
    "\n",
    "\n",
    "\n"
   ]
  },
  {
   "cell_type": "code",
   "execution_count": 148,
   "metadata": {},
   "outputs": [],
   "source": [
    "data_path_str =  '\\n'.join(data_path)\n",
    "output_file = 'etc/dataset_train.fileids'\n",
    "with open(output_file, 'w', newline='') as file:\n",
    "    file.write(data_path_str)"
   ]
  },
  {
   "cell_type": "code",
   "execution_count": 149,
   "metadata": {},
   "outputs": [],
   "source": [
    "label_str =  '\\n'.join(label)\n",
    "output_file = 'etc/dataset_train.transcription'\n",
    "with open(output_file, 'w', newline='') as file:\n",
    "    file.write(label_str)"
   ]
  },
  {
   "cell_type": "code",
   "execution_count": 150,
   "metadata": {},
   "outputs": [],
   "source": [
    "word_str =  '\\n'.join(word_list)\n",
    "output_file = 'etc/word_list.txt'\n",
    "with open(output_file, 'w', newline='') as file:\n",
    "    file.write(word_str)"
   ]
  },
  {
   "cell_type": "code",
   "execution_count": null,
   "metadata": {},
   "outputs": [],
   "source": [
    "language_str =  '\\n'.join(language_model)\n",
    "output_file = 'etc/language.txt'\n",
    "with open(output_file, 'w', newline='') as file:\n",
    "    file.write(language_str)"
   ]
  },
  {
   "cell_type": "code",
   "execution_count": 151,
   "metadata": {},
   "outputs": [],
   "source": [
    "\n",
    "# Inisialisasi set kosong untuk menyimpan daftar kata unik\n",
    "daftar_kata = set()\n",
    "\n",
    "# Baca file teks dengan daftar kalimat\n",
    "nama_file = 'etc/word_list.txt'  # Ganti dengan nama file yang sesuai\n",
    "with open(nama_file, 'r') as file:\n",
    "    word_list = file.readlines()\n",
    "\n",
    "# Mengubah semua kalimat dalam word list menjadi huruf kapital\n",
    "for kalimat in word_list:\n",
    "    kalimat = kalimat.upper()  # Mengubah kalimat ke huruf kapital\n",
    "    # Mendaftar kata-kata yang terdapat dalam setiap kalimat\n",
    "    kata_kata = kalimat.split()\n",
    "    daftar_kata.update(kata_kata)  # Menambah kata-kata ke set daftar_kata\n",
    "\n"
   ]
  },
  {
   "cell_type": "code",
   "execution_count": 152,
   "metadata": {},
   "outputs": [],
   "source": [
    "daftar_kata = sorted(daftar_kata)"
   ]
  },
  {
   "cell_type": "code",
   "execution_count": 153,
   "metadata": {},
   "outputs": [
    {
     "data": {
      "text/plain": [
       "711"
      ]
     },
     "execution_count": 153,
     "metadata": {},
     "output_type": "execute_result"
    }
   ],
   "source": [
    "len(daftar_kata)"
   ]
  },
  {
   "cell_type": "code",
   "execution_count": 154,
   "metadata": {},
   "outputs": [],
   "source": [
    "phone = []\n",
    "\n",
    "for kata in daftar_kata:\n",
    "    kata_dan_spelling = ' '.join(kata)\n",
    "    phone.append(kata +\" \"+kata_dan_spelling)\n"
   ]
  },
  {
   "cell_type": "code",
   "execution_count": 155,
   "metadata": {},
   "outputs": [
    {
     "data": {
      "text/plain": [
       "711"
      ]
     },
     "execution_count": 155,
     "metadata": {},
     "output_type": "execute_result"
    }
   ],
   "source": [
    "len(phone)"
   ]
  },
  {
   "cell_type": "code",
   "execution_count": 156,
   "metadata": {},
   "outputs": [],
   "source": [
    "phone_str =  '\\n'.join(phone)\n",
    "output_file = 'etc/dataset.dic'\n",
    "with open(output_file, 'w', newline='') as file:\n",
    "    file.write(phone_str)"
   ]
  }
 ],
 "metadata": {
  "kernelspec": {
   "display_name": "Python 3",
   "language": "python",
   "name": "python3"
  },
  "language_info": {
   "codemirror_mode": {
    "name": "ipython",
    "version": 3
   },
   "file_extension": ".py",
   "mimetype": "text/x-python",
   "name": "python",
   "nbconvert_exporter": "python",
   "pygments_lexer": "ipython3",
   "version": "3.10.4"
  }
 },
 "nbformat": 4,
 "nbformat_minor": 2
}
