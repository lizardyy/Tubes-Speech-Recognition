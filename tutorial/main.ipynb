{
 "cells": [
  {
   "cell_type": "code",
   "execution_count": 2,
   "metadata": {},
   "outputs": [],
   "source": [
    "from pocketsphinx import LiveSpeech"
   ]
  },
  {
   "cell_type": "code",
   "execution_count": 18,
   "metadata": {},
   "outputs": [],
   "source": [
    "hmm = 'dataset/model_parameters/dataset.cd_cont_200'\n",
    "lm ='dataset/etc/dataset.lm.bin'\n",
    "dict = 'dataset/etc/dataset.dict'\n",
    "\n"
   ]
  },
  {
   "cell_type": "code",
   "execution_count": 21,
   "metadata": {},
   "outputs": [
    {
     "name": "stdout",
     "output_type": "stream",
     "text": [
      "MENURUT SAYA KAMU\n"
     ]
    }
   ],
   "source": [
    "import os\n",
    "from pocketsphinx import AudioFile, get_model_path\n",
    "\n",
    "\n",
    "\n",
    "config = {\n",
    "    'verbose': False,\n",
    "    'audio_file': 'dataset/wav/Female_1/Female_1_3.wav',\n",
    "    'buffer_size': 2048,\n",
    "    'hmm': hmm,\n",
    "    'lm': lm,\n",
    "    'dict': dict\n",
    "}\n",
    "\n",
    "audio = AudioFile(**config)\n",
    "for phrase in audio:\n",
    "    print(phrase)"
   ]
  },
  {
   "cell_type": "code",
   "execution_count": null,
   "metadata": {},
   "outputs": [],
   "source": []
  }
 ],
 "metadata": {
  "kernelspec": {
   "display_name": "Python 3",
   "language": "python",
   "name": "python3"
  },
  "language_info": {
   "codemirror_mode": {
    "name": "ipython",
    "version": 3
   },
   "file_extension": ".py",
   "mimetype": "text/x-python",
   "name": "python",
   "nbconvert_exporter": "python",
   "pygments_lexer": "ipython3",
   "version": "3.10.4"
  }
 },
 "nbformat": 4,
 "nbformat_minor": 2
}
