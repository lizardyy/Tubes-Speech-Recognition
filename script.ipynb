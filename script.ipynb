{
 "cells": [
  {
   "cell_type": "code",
   "execution_count": 1,
   "metadata": {},
   "outputs": [],
   "source": [
    "# Fungsi untuk mendapatkan informasi dari nama file audio\n",
    "import os\n",
    "import csv\n",
    "def extract_info_from_filename(filename):\n",
    "    split_filename = filename.split('.')[0]\n",
    "    return split_filename\n",
    "\n",
    "\n",
    "\n",
    "# Inisialisasi list untuk menyimpan informasi\n",
    "# korpus_text = []\n",
    "\n",
    "# # Membaca file csv korpus_kalimat\n",
    "# csv_file_path = 'dataset/korpus_kalimat.csv'\n",
    "# with open(csv_file_path, 'r') as file:\n",
    "#     csv_reader = csv.reader(file)\n",
    "#     # next(csv_reader)  # Skip header\n",
    "#     for row in csv_reader:\n",
    "#         angka, kalimat = row\n",
    "#         korpus_text.append((angka, kalimat))\n"
   ]
  },
  {
   "cell_type": "code",
   "execution_count": null,
   "metadata": {},
   "outputs": [],
   "source": []
  },
  {
   "cell_type": "code",
   "execution_count": 5,
   "metadata": {},
   "outputs": [
    {
     "name": "stdout",
     "output_type": "stream",
     "text": [
      "Daftar file di Female_1 adalah:\n",
      "Daftar file di Male_1 adalah:\n",
      "Daftar file di Male_10 adalah:\n",
      "Daftar file di Male_11 adalah:\n",
      "Daftar file di Male_12 adalah:\n",
      "Daftar file di Male_13 adalah:\n",
      "Daftar file di Male_14 adalah:\n",
      "Daftar file di Male_15 adalah:\n",
      "Daftar file di Male_16 adalah:\n",
      "Daftar file di Male_2 adalah:\n",
      "Daftar file di Male_3 adalah:\n",
      "Daftar file di Male_4 adalah:\n",
      "Daftar file di Male_5 adalah:\n",
      "Daftar file di Male_6 adalah:\n",
      "Daftar file di Male_7 adalah:\n",
      "Daftar file di Male_8 adalah:\n",
      "Daftar file di Male_9 adalah:\n"
     ]
    }
   ],
   "source": [
    "# Path ke folder dataset\n",
    "import os\n",
    "import csv\n",
    "def extract_info_from_filename(filename):\n",
    "    split_filename = filename.split('.')[0]\n",
    "    return split_filename\n",
    "folder_path = 'dataset/korpus/Audio'\n",
    "forder_label = 'dataset/korpus/Label/'\n",
    "directories = [d for d in os.listdir(folder_path) if os.path.isdir(os.path.join(folder_path, d))]\n",
    "data = []\n",
    "for directory in directories:\n",
    "    dir_path = os.path.join(folder_path, directory)\n",
    "    files_in_dir = [f for f in os.listdir(dir_path) if os.path.isfile(os.path.join(dir_path, f))]\n",
    "    print(\"Daftar file di\", directory, \"adalah:\")\n",
    "    for file_name in files_in_dir:\n",
    "        angka = extract_info_from_filename(file_name)\n",
    "        if directory != 'Male_8':\n",
    "            angka_label = angka\n",
    "        else:\n",
    "            angka_label = str(int(angka)-1)\n",
    "        with open(forder_label+directory +'/'+angka_label+'.txt') as f:\n",
    "            lines = f.readlines()[0]\n",
    "\n",
    "        data.append((f\"{directory}/{angka}\",lines.replace('\"', '').replace(',', '').replace('\\n', ''),lines.replace('\"', '').replace(',', '').replace('\\n', '')))\n",
    "\n"
   ]
  },
  {
   "cell_type": "code",
   "execution_count": 7,
   "metadata": {},
   "outputs": [],
   "source": [
    "output_csv_path = 'dataset/metadata.csv'\n",
    "with open(output_csv_path, 'w', newline='') as file:\n",
    "    csv_writer = csv.writer(file)\n",
    "    csv_writer.writerows(data)\n"
   ]
  },
  {
   "cell_type": "code",
   "execution_count": 2,
   "metadata": {},
   "outputs": [
    {
     "ename": "FileNotFoundError",
     "evalue": "[Errno 2] No such file or directory: 'etc/word_list.txt'",
     "output_type": "error",
     "traceback": [
      "\u001b[1;31m---------------------------------------------------------------------------\u001b[0m",
      "\u001b[1;31mFileNotFoundError\u001b[0m                         Traceback (most recent call last)",
      "Cell \u001b[1;32mIn[2], line 5\u001b[0m\n\u001b[0;32m      3\u001b[0m \u001b[38;5;66;03m# Baca file teks dengan daftar kalimat\u001b[39;00m\n\u001b[0;32m      4\u001b[0m nama_file \u001b[38;5;241m=\u001b[39m \u001b[38;5;124m'\u001b[39m\u001b[38;5;124metc/word_list.txt\u001b[39m\u001b[38;5;124m'\u001b[39m  \u001b[38;5;66;03m# Ganti dengan nama file yang sesuai\u001b[39;00m\n\u001b[1;32m----> 5\u001b[0m \u001b[38;5;28;01mwith\u001b[39;00m \u001b[38;5;28;43mopen\u001b[39;49m\u001b[43m(\u001b[49m\u001b[43mnama_file\u001b[49m\u001b[43m,\u001b[49m\u001b[43m \u001b[49m\u001b[38;5;124;43m'\u001b[39;49m\u001b[38;5;124;43mr\u001b[39;49m\u001b[38;5;124;43m'\u001b[39;49m\u001b[43m)\u001b[49m \u001b[38;5;28;01mas\u001b[39;00m file:\n\u001b[0;32m      6\u001b[0m     word_list \u001b[38;5;241m=\u001b[39m file\u001b[38;5;241m.\u001b[39mreadlines()\n\u001b[0;32m      8\u001b[0m \u001b[38;5;66;03m# Mengubah semua kalimat dalam word list menjadi huruf kapital\u001b[39;00m\n",
      "File \u001b[1;32m~\\AppData\\Roaming\\Python\\Python310\\site-packages\\IPython\\core\\interactiveshell.py:282\u001b[0m, in \u001b[0;36m_modified_open\u001b[1;34m(file, *args, **kwargs)\u001b[0m\n\u001b[0;32m    275\u001b[0m \u001b[38;5;28;01mif\u001b[39;00m file \u001b[38;5;129;01min\u001b[39;00m {\u001b[38;5;241m0\u001b[39m, \u001b[38;5;241m1\u001b[39m, \u001b[38;5;241m2\u001b[39m}:\n\u001b[0;32m    276\u001b[0m     \u001b[38;5;28;01mraise\u001b[39;00m \u001b[38;5;167;01mValueError\u001b[39;00m(\n\u001b[0;32m    277\u001b[0m         \u001b[38;5;124mf\u001b[39m\u001b[38;5;124m\"\u001b[39m\u001b[38;5;124mIPython won\u001b[39m\u001b[38;5;124m'\u001b[39m\u001b[38;5;124mt let you open fd=\u001b[39m\u001b[38;5;132;01m{\u001b[39;00mfile\u001b[38;5;132;01m}\u001b[39;00m\u001b[38;5;124m by default \u001b[39m\u001b[38;5;124m\"\u001b[39m\n\u001b[0;32m    278\u001b[0m         \u001b[38;5;124m\"\u001b[39m\u001b[38;5;124mas it is likely to crash IPython. If you know what you are doing, \u001b[39m\u001b[38;5;124m\"\u001b[39m\n\u001b[0;32m    279\u001b[0m         \u001b[38;5;124m\"\u001b[39m\u001b[38;5;124myou can use builtins\u001b[39m\u001b[38;5;124m'\u001b[39m\u001b[38;5;124m open.\u001b[39m\u001b[38;5;124m\"\u001b[39m\n\u001b[0;32m    280\u001b[0m     )\n\u001b[1;32m--> 282\u001b[0m \u001b[38;5;28;01mreturn\u001b[39;00m io_open(file, \u001b[38;5;241m*\u001b[39margs, \u001b[38;5;241m*\u001b[39m\u001b[38;5;241m*\u001b[39mkwargs)\n",
      "\u001b[1;31mFileNotFoundError\u001b[0m: [Errno 2] No such file or directory: 'etc/word_list.txt'"
     ]
    }
   ],
   "source": [
    "\n",
    "# Inisialisasi set kosong untuk menyimpan daftar kata unik\n",
    "daftar_kata = set()\n",
    "\n",
    "# Baca file teks dengan daftar kalimat\n",
    "nama_file = 'etc/word_list.txt'  # Ganti dengan nama file yang sesuai\n",
    "with open(nama_file, 'r') as file:\n",
    "    word_list = file.readlines()\n",
    "\n",
    "# Mengubah semua kalimat dalam word list menjadi huruf kapital\n",
    "for kalimat in word_list:\n",
    "    kalimat = kalimat.upper()  # Mengubah kalimat ke huruf kapital\n",
    "    print(kalimat)  # Tampilkan kalimat yang sudah diubah ke huruf kapital\n",
    "    \n",
    "    # Mendaftar kata-kata yang terdapat dalam setiap kalimat\n",
    "    kata_kata = kalimat.split()\n",
    "    daftar_kata.update(kata_kata)  # Menambah kata-kata ke set daftar_kata\n",
    "\n",
    "# Menampilkan daftar kata yang terdapat di semua kalimat\n",
    "print(\"\\nDaftar kata yang terdapat di semua kalimat:\")\n",
    "daftar_kata"
   ]
  }
 ],
 "metadata": {
  "kernelspec": {
   "display_name": "Python 3",
   "language": "python",
   "name": "python3"
  },
  "language_info": {
   "codemirror_mode": {
    "name": "ipython",
    "version": 3
   },
   "file_extension": ".py",
   "mimetype": "text/x-python",
   "name": "python",
   "nbconvert_exporter": "python",
   "pygments_lexer": "ipython3",
   "version": "3.10.4"
  }
 },
 "nbformat": 4,
 "nbformat_minor": 2
}
