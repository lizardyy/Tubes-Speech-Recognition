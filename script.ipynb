{
 "cells": [
  {
   "cell_type": "code",
   "execution_count": 4,
   "metadata": {},
   "outputs": [],
   "source": [
    "# Fungsi untuk mendapatkan informasi dari nama file audio\n",
    "import os\n",
    "import csv\n",
    "def extract_info_from_filename(filename):\n",
    "    split_filename = filename.split('.')[0]\n",
    "    return split_filename\n",
    "\n",
    "\n",
    "\n",
    "# Inisialisasi list untuk menyimpan informasi\n",
    "# korpus_text = []\n",
    "\n",
    "# # Membaca file csv korpus_kalimat\n",
    "# csv_file_path = 'dataset/korpus_kalimat.csv'\n",
    "# with open(csv_file_path, 'r') as file:\n",
    "#     csv_reader = csv.reader(file)\n",
    "#     # next(csv_reader)  # Skip header\n",
    "#     for row in csv_reader:\n",
    "#         angka, kalimat = row\n",
    "#         korpus_text.append((angka, kalimat))\n"
   ]
  },
  {
   "cell_type": "code",
   "execution_count": null,
   "metadata": {},
   "outputs": [],
   "source": []
  },
  {
   "cell_type": "code",
   "execution_count": 17,
   "metadata": {},
   "outputs": [
    {
     "name": "stdout",
     "output_type": "stream",
     "text": [
      "Daftar file di Female_1 adalah:\n",
      "Daftar file di Male_1 adalah:\n",
      "Daftar file di Male_10 adalah:\n",
      "Daftar file di Male_11 adalah:\n",
      "Daftar file di Male_12 adalah:\n",
      "Daftar file di Male_13 adalah:\n",
      "Daftar file di Male_14 adalah:\n",
      "Daftar file di Male_15 adalah:\n",
      "Daftar file di Male_16 adalah:\n",
      "Daftar file di Male_2 adalah:\n",
      "Daftar file di Male_3 adalah:\n",
      "Daftar file di Male_4 adalah:\n",
      "Daftar file di Male_5 adalah:\n",
      "Daftar file di Male_6 adalah:\n",
      "Daftar file di Male_7 adalah:\n",
      "Daftar file di Male_8 adalah:\n",
      "Daftar file di Male_9 adalah:\n"
     ]
    }
   ],
   "source": [
    "# Path ke folder dataset\n",
    "folder_path = 'dataset/korpus/Audio'\n",
    "forder_label = 'dataset/korpus/Label/'\n",
    "directories = [d for d in os.listdir(folder_path) if os.path.isdir(os.path.join(folder_path, d))]\n",
    "data = []\n",
    "for directory in directories:\n",
    "    dir_path = os.path.join(folder_path, directory)\n",
    "    files_in_dir = [f for f in os.listdir(dir_path) if os.path.isfile(os.path.join(dir_path, f))]\n",
    "    print(\"Daftar file di\", directory, \"adalah:\")\n",
    "    for file_name in files_in_dir:\n",
    "        angka = extract_info_from_filename(file_name)\n",
    "        if directory == 'Male_8':\n",
    "            angka = str(int(angka)-1)\n",
    "        with open(forder_label+directory +'/'+angka+'.txt') as f:\n",
    "            lines = f.readlines()[0]\n",
    "        data.append((f\"{directory}/{angka}\",lines.replace('\"', ''),lines.replace('\"', '')))\n",
    "\n"
   ]
  },
  {
   "cell_type": "code",
   "execution_count": 18,
   "metadata": {},
   "outputs": [],
   "source": [
    "output_csv_path = 'dataset/metadata.csv'\n",
    "with open(output_csv_path, 'w', newline='') as file:\n",
    "    csv_writer = csv.writer(file)\n",
    "    csv_writer.writerows(data)\n"
   ]
  }
 ],
 "metadata": {
  "kernelspec": {
   "display_name": "Python 3",
   "language": "python",
   "name": "python3"
  },
  "language_info": {
   "codemirror_mode": {
    "name": "ipython",
    "version": 3
   },
   "file_extension": ".py",
   "mimetype": "text/x-python",
   "name": "python",
   "nbconvert_exporter": "python",
   "pygments_lexer": "ipython3",
   "version": "3.10.4"
  }
 },
 "nbformat": 4,
 "nbformat_minor": 2
}
