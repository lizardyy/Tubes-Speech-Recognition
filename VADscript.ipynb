{
 "cells": [
  {
   "cell_type": "code",
   "execution_count": 3,
   "metadata": {},
   "outputs": [],
   "source": [
    "# %pip install webrtcvad-wheels"
   ]
  },
  {
   "cell_type": "code",
   "execution_count": 13,
   "metadata": {},
   "outputs": [
    {
     "name": "stdout",
     "output_type": "stream",
     "text": [
      "Daftar file di Female_1 adalah:\n",
      "Daftar file di Male_1 adalah:\n",
      "Daftar file di Male_10 adalah:\n",
      "Daftar file di Male_11 adalah:\n",
      "Daftar file di Male_12 adalah:\n",
      "Daftar file di Male_13 adalah:\n",
      "Daftar file di Male_14 adalah:\n",
      "Daftar file di Male_15 adalah:\n",
      "Daftar file di Male_16 adalah:\n",
      "Daftar file di Male_2 adalah:\n",
      "Daftar file di Male_3 adalah:\n",
      "Daftar file di Male_4 adalah:\n",
      "Daftar file di Male_5 adalah:\n",
      "Daftar file di Male_6 adalah:\n",
      "Daftar file di Male_7 adalah:\n",
      "Daftar file di Male_8 adalah:\n",
      "Daftar file di Male_9 adalah:\n"
     ]
    }
   ],
   "source": [
    "import os\n",
    "from scipy.io import wavfile\n",
    "import noisereduce as nr\n",
    "from pedalboard.io import AudioFile\n",
    "from pedalboard import *\n",
    "import noisereduce as nr\n",
    "\n",
    "# Path ke folder dataset\n",
    "folder_path = 'dataset/korpusNorm/Audio'\n",
    "directories = [d for d in os.listdir(folder_path) if os.path.isdir(os.path.join(folder_path, d))]\n",
    "data = []\n",
    "i=0\n",
    "for directory in directories:\n",
    "    dir_path = os.path.join(folder_path, directory)\n",
    "    files_in_dir = [f for f in os.listdir(dir_path) if os.path.isfile(os.path.join(dir_path, f))]\n",
    "    print(\"Daftar file di\", directory, \"adalah:\")\n",
    "    for file_name in files_in_dir:\n",
    "        sr=44100\n",
    "        with AudioFile(\"dataset/korpusNorm/Audio/\"+directory+\"/\"+file_name).resampled_to(sr) as f:\n",
    "            audio = f.read(f.frames)\n",
    "\n",
    "        reduced_noise = nr.reduce_noise(y=audio, sr=sr, stationary=True, prop_decrease=0.75)\n",
    "\n",
    "        # board = Pedalboard([\n",
    "        #     NoiseGate(threshold_db=-30, ratio=1.5, release_ms=250),\n",
    "        #     Compressor(threshold_db=-16, ratio=2.5),\n",
    "        #     LowShelfFilter(cutoff_frequency_hz=400, gain_db=10, q=1),\n",
    "        # Gain(gain_db=10)\n",
    "        # ])\n",
    "\n",
    "        # effected = board(reduced_noise, sr)\n",
    "\n",
    "\n",
    "        with AudioFile(\"dataset/korpusVAD2/Audio/\"+directory+\"/\"+file_name, 'w', sr, reduced_noise.shape[0]) as f:\n",
    "            f.write(reduced_noise)"
   ]
  },
  {
   "cell_type": "code",
   "execution_count": 8,
   "metadata": {},
   "outputs": [],
   "source": [
    "from pydub import AudioSegment\n",
    "\n",
    "def detect_leading_silence(sound, silence_threshold=-40.0, chunk_size=10):\n",
    "    '''\n",
    "    sound is a pydub.AudioSegment\n",
    "    silence_threshold in dB\n",
    "    chunk_size in ms\n",
    "\n",
    "    iterate over chunks until you find the first one with sound\n",
    "    '''\n",
    "    trim_ms = 0 # ms\n",
    "\n",
    "    assert chunk_size > 0 # to avoid infinite loop\n",
    "    while sound[trim_ms:trim_ms+chunk_size].dBFS < silence_threshold and trim_ms < len(sound):\n",
    "        trim_ms += chunk_size\n",
    "\n",
    "    return trim_ms\n"
   ]
  },
  {
   "cell_type": "code",
   "execution_count": 6,
   "metadata": {},
   "outputs": [
    {
     "name": "stdout",
     "output_type": "stream",
     "text": [
      "Requirement already satisfied: pedalboard in c:\\users\\mahesa lizardy\\appdata\\local\\programs\\python\\python310\\lib\\site-packages (0.8.6)\n",
      "Requirement already satisfied: numpy in c:\\users\\mahesa lizardy\\appdata\\local\\programs\\python\\python310\\lib\\site-packages (from pedalboard) (1.24.2)\n",
      "Note: you may need to restart the kernel to use updated packages.\n"
     ]
    }
   ],
   "source": [
    "# %pip install pedalboard "
   ]
  },
  {
   "cell_type": "code",
   "execution_count": 14,
   "metadata": {},
   "outputs": [
    {
     "name": "stdout",
     "output_type": "stream",
     "text": [
      "Daftar file di Female_1 adalah:\n",
      "Daftar file di Male_1 adalah:\n",
      "Daftar file di Male_10 adalah:\n",
      "Daftar file di Male_11 adalah:\n",
      "Daftar file di Male_12 adalah:\n",
      "Daftar file di Male_13 adalah:\n",
      "Daftar file di Male_14 adalah:\n",
      "Daftar file di Male_15 adalah:\n",
      "Daftar file di Male_16 adalah:\n",
      "Daftar file di Male_2 adalah:\n",
      "Daftar file di Male_3 adalah:\n",
      "Daftar file di Male_4 adalah:\n",
      "Daftar file di Male_5 adalah:\n",
      "Daftar file di Male_6 adalah:\n",
      "Daftar file di Male_7 adalah:\n",
      "Daftar file di Male_8 adalah:\n",
      "Daftar file di Male_9 adalah:\n"
     ]
    }
   ],
   "source": [
    "import os\n",
    "from scipy.io import wavfile\n",
    "import noisereduce as nr\n",
    "# Path ke folder dataset\n",
    "folder_path = 'dataset/korpusVAD2/Audio'\n",
    "directories = [d for d in os.listdir(folder_path) if os.path.isdir(os.path.join(folder_path, d))]\n",
    "data = []\n",
    "i=0\n",
    "for directory in directories:\n",
    "    # if i ==1:\n",
    "    #     break\n",
    "    # i+=1\n",
    "    dir_path = os.path.join(folder_path, directory)\n",
    "    files_in_dir = [f for f in os.listdir(dir_path) if os.path.isfile(os.path.join(dir_path, f))]\n",
    "    print(\"Daftar file di\", directory, \"adalah:\")\n",
    "    for file_name in files_in_dir:\n",
    "        sound = AudioSegment.from_file(\"dataset/korpusVAD2/Audio/\"+directory+\"/\"+file_name, format=\"wav\")\n",
    "        sound = sound.set_channels(1)\n",
    "        start_trim = detect_leading_silence(sound)\n",
    "        end_trim = detect_leading_silence(sound.reverse())\n",
    "\n",
    "        duration = len(sound)    \n",
    "        trimmed_sound = sound[start_trim:duration-end_trim]\n",
    "        trimmed_sound.export(\"dataset/korpusVAD/Audio/\"+directory+\"/\"+file_name, format=\"wav\")\n"
   ]
  }
 ],
 "metadata": {
  "kernelspec": {
   "display_name": "Python 3",
   "language": "python",
   "name": "python3"
  },
  "language_info": {
   "codemirror_mode": {
    "name": "ipython",
    "version": 3
   },
   "file_extension": ".py",
   "mimetype": "text/x-python",
   "name": "python",
   "nbconvert_exporter": "python",
   "pygments_lexer": "ipython3",
   "version": "3.10.4"
  }
 },
 "nbformat": 4,
 "nbformat_minor": 2
}
