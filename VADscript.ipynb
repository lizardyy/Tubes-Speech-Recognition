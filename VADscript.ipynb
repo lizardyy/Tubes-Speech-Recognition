{
 "cells": [
  {
   "cell_type": "code",
   "execution_count": 4,
   "metadata": {},
   "outputs": [
    {
     "name": "stdout",
     "output_type": "stream",
     "text": [
      "Collecting webrtcvad-wheels\n",
      "  Downloading webrtcvad_wheels-2.0.11.post1-cp310-cp310-win_amd64.whl (18 kB)\n",
      "Installing collected packages: webrtcvad-wheels\n",
      "Successfully installed webrtcvad-wheels-2.0.11.post1\n",
      "Note: you may need to restart the kernel to use updated packages.\n"
     ]
    }
   ],
   "source": [
    "%pip install webrtcvad-wheels"
   ]
  },
  {
   "cell_type": "code",
   "execution_count": 4,
   "metadata": {},
   "outputs": [
    {
     "name": "stdout",
     "output_type": "stream",
     "text": [
      "Daftar file di Female_1 adalah:\n"
     ]
    },
    {
     "ename": "TypeError",
     "evalue": "reduce_noise() missing 1 required positional argument: 'sr'",
     "output_type": "error",
     "traceback": [
      "\u001b[1;31m---------------------------------------------------------------------------\u001b[0m",
      "\u001b[1;31mTypeError\u001b[0m                                 Traceback (most recent call last)",
      "\u001b[1;32md:\\semester7\\speech\\Tubes-Speech-Recognition\\VADscript.ipynb Cell 2\u001b[0m line \u001b[0;36m2\n\u001b[0;32m     <a href='vscode-notebook-cell:/d%3A/semester7/speech/Tubes-Speech-Recognition/VADscript.ipynb#W1sZmlsZQ%3D%3D?line=18'>19</a>\u001b[0m \u001b[39mwith\u001b[39;00m AudioFile(\u001b[39m\"\u001b[39m\u001b[39mdataset/korpusVAD/Audio/\u001b[39m\u001b[39m\"\u001b[39m\u001b[39m+\u001b[39mdirectory\u001b[39m+\u001b[39m\u001b[39m\"\u001b[39m\u001b[39m/\u001b[39m\u001b[39m\"\u001b[39m\u001b[39m+\u001b[39mfile_name)\u001b[39m.\u001b[39mresampled_to(sr) \u001b[39mas\u001b[39;00m f:\n\u001b[0;32m     <a href='vscode-notebook-cell:/d%3A/semester7/speech/Tubes-Speech-Recognition/VADscript.ipynb#W1sZmlsZQ%3D%3D?line=19'>20</a>\u001b[0m     audio \u001b[39m=\u001b[39m f\u001b[39m.\u001b[39mread(f\u001b[39m.\u001b[39mframes)\n\u001b[1;32m---> <a href='vscode-notebook-cell:/d%3A/semester7/speech/Tubes-Speech-Recognition/VADscript.ipynb#W1sZmlsZQ%3D%3D?line=21'>22</a>\u001b[0m effected \u001b[39m=\u001b[39m nr\u001b[39m.\u001b[39;49mreduce_noise(y\u001b[39m=\u001b[39;49maudio)\n\u001b[0;32m     <a href='vscode-notebook-cell:/d%3A/semester7/speech/Tubes-Speech-Recognition/VADscript.ipynb#W1sZmlsZQ%3D%3D?line=23'>24</a>\u001b[0m \u001b[39m# board = Pedalboard([\u001b[39;00m\n\u001b[0;32m     <a href='vscode-notebook-cell:/d%3A/semester7/speech/Tubes-Speech-Recognition/VADscript.ipynb#W1sZmlsZQ%3D%3D?line=24'>25</a>\u001b[0m \u001b[39m#     NoiseGate(threshold_db=-30, ratio=1.5, release_ms=250),\u001b[39;00m\n\u001b[0;32m     <a href='vscode-notebook-cell:/d%3A/semester7/speech/Tubes-Speech-Recognition/VADscript.ipynb#W1sZmlsZQ%3D%3D?line=25'>26</a>\u001b[0m \u001b[39m#     Compressor(threshold_db=-16, ratio=2.5),\u001b[39;00m\n\u001b[1;32m   (...)\u001b[0m\n\u001b[0;32m     <a href='vscode-notebook-cell:/d%3A/semester7/speech/Tubes-Speech-Recognition/VADscript.ipynb#W1sZmlsZQ%3D%3D?line=29'>30</a>\u001b[0m \n\u001b[0;32m     <a href='vscode-notebook-cell:/d%3A/semester7/speech/Tubes-Speech-Recognition/VADscript.ipynb#W1sZmlsZQ%3D%3D?line=30'>31</a>\u001b[0m \u001b[39m# effected = board(reduced_noise, sr)\u001b[39;00m\n\u001b[0;32m     <a href='vscode-notebook-cell:/d%3A/semester7/speech/Tubes-Speech-Recognition/VADscript.ipynb#W1sZmlsZQ%3D%3D?line=33'>34</a>\u001b[0m \u001b[39mwith\u001b[39;00m AudioFile(\u001b[39m\"\u001b[39m\u001b[39mdataset/korpusVAD/Audio/\u001b[39m\u001b[39m\"\u001b[39m\u001b[39m+\u001b[39mdirectory\u001b[39m+\u001b[39m\u001b[39m\"\u001b[39m\u001b[39m/\u001b[39m\u001b[39m\"\u001b[39m\u001b[39m+\u001b[39mfile_name, \u001b[39m'\u001b[39m\u001b[39mw\u001b[39m\u001b[39m'\u001b[39m, sr, effected\u001b[39m.\u001b[39mshape[\u001b[39m0\u001b[39m]) \u001b[39mas\u001b[39;00m f:\n",
      "\u001b[1;31mTypeError\u001b[0m: reduce_noise() missing 1 required positional argument: 'sr'"
     ]
    }
   ],
   "source": [
    "# import os\n",
    "# from scipy.io import wavfile\n",
    "# import noisereduce as nr\n",
    "# from pedalboard.io import AudioFile\n",
    "# from pedalboard import *\n",
    "# import noisereduce as nr\n",
    "\n",
    "# # Path ke folder dataset\n",
    "# folder_path = 'dataset/korpus/Audio'\n",
    "# directories = [d for d in os.listdir(folder_path) if os.path.isdir(os.path.join(folder_path, d))]\n",
    "# data = []\n",
    "# i=0\n",
    "# for directory in directories:\n",
    "#     dir_path = os.path.join(folder_path, directory)\n",
    "#     files_in_dir = [f for f in os.listdir(dir_path) if os.path.isfile(os.path.join(dir_path, f))]\n",
    "#     print(\"Daftar file di\", directory, \"adalah:\")\n",
    "#     for file_name in files_in_dir:\n",
    "#         sr=44100\n",
    "#         with AudioFile(\"dataset/korpusVAD/Audio/\"+directory+\"/\"+file_name).resampled_to(sr) as f:\n",
    "#             audio = f.read(f.frames)\n",
    "\n",
    "#         effected = nr.reduce_noise(y=audio)\n",
    "\n",
    "#         # board = Pedalboard([\n",
    "#         #     NoiseGate(threshold_db=-30, ratio=1.5, release_ms=250),\n",
    "#         #     Compressor(threshold_db=-16, ratio=2.5),\n",
    "#         #     LowShelfFilter(cutoff_frequency_hz=400, gain_db=10, q=1),\n",
    "#         # Gain(gain_db=10)\n",
    "#         # ])\n",
    "\n",
    "#         # effected = board(reduced_noise, sr)\n",
    "\n",
    "\n",
    "#         with AudioFile(\"dataset/korpusVAD/Audio/\"+directory+\"/\"+file_name, 'w', sr, effected.shape[0]) as f:\n",
    "#             f.write(effected)"
   ]
  },
  {
   "cell_type": "code",
   "execution_count": 8,
   "metadata": {},
   "outputs": [],
   "source": [
    "from pydub import AudioSegment\n",
    "\n",
    "def detect_leading_silence(sound, silence_threshold=-40.0, chunk_size=10):\n",
    "    '''\n",
    "    sound is a pydub.AudioSegment\n",
    "    silence_threshold in dB\n",
    "    chunk_size in ms\n",
    "\n",
    "    iterate over chunks until you find the first one with sound\n",
    "    '''\n",
    "    trim_ms = 0 # ms\n",
    "\n",
    "    assert chunk_size > 0 # to avoid infinite loop\n",
    "    while sound[trim_ms:trim_ms+chunk_size].dBFS < silence_threshold and trim_ms < len(sound):\n",
    "        trim_ms += chunk_size\n",
    "\n",
    "    return trim_ms\n"
   ]
  },
  {
   "cell_type": "code",
   "execution_count": 27,
   "metadata": {},
   "outputs": [
    {
     "name": "stdout",
     "output_type": "stream",
     "text": [
      "Collecting pedalboard\n",
      "  Downloading pedalboard-0.8.6-cp310-cp310-win_amd64.whl.metadata (16 kB)\n",
      "Requirement already satisfied: numpy in c:\\users\\mahesa lizardy\\appdata\\local\\programs\\python\\python310\\lib\\site-packages (from pedalboard) (1.24.2)\n",
      "Downloading pedalboard-0.8.6-cp310-cp310-win_amd64.whl (3.1 MB)\n",
      "   ---------------------------------------- 0.0/3.1 MB ? eta -:--:--\n",
      "   - -------------------------------------- 0.1/3.1 MB 2.6 MB/s eta 0:00:02\n",
      "   -- ------------------------------------- 0.2/3.1 MB 2.3 MB/s eta 0:00:02\n",
      "   ---- ----------------------------------- 0.4/3.1 MB 2.9 MB/s eta 0:00:01\n",
      "   ------- -------------------------------- 0.5/3.1 MB 3.1 MB/s eta 0:00:01\n",
      "   --------- ------------------------------ 0.7/3.1 MB 3.3 MB/s eta 0:00:01\n",
      "   ----------- ---------------------------- 0.9/3.1 MB 3.4 MB/s eta 0:00:01\n",
      "   ------------ --------------------------- 1.0/3.1 MB 3.3 MB/s eta 0:00:01\n",
      "   -------------- ------------------------- 1.1/3.1 MB 3.2 MB/s eta 0:00:01\n",
      "   --------------- ------------------------ 1.2/3.1 MB 3.0 MB/s eta 0:00:01\n",
      "   ---------------- ----------------------- 1.3/3.1 MB 3.1 MB/s eta 0:00:01\n",
      "   ------------------ --------------------- 1.4/3.1 MB 2.9 MB/s eta 0:00:01\n",
      "   ------------------- -------------------- 1.5/3.1 MB 3.0 MB/s eta 0:00:01\n",
      "   -------------------- ------------------- 1.6/3.1 MB 2.9 MB/s eta 0:00:01\n",
      "   ---------------------- ----------------- 1.7/3.1 MB 2.9 MB/s eta 0:00:01\n",
      "   ----------------------- ---------------- 1.8/3.1 MB 2.9 MB/s eta 0:00:01\n",
      "   ------------------------ --------------- 1.9/3.1 MB 2.8 MB/s eta 0:00:01\n",
      "   ------------------------- -------------- 2.0/3.1 MB 2.8 MB/s eta 0:00:01\n",
      "   --------------------------- ------------ 2.1/3.1 MB 2.8 MB/s eta 0:00:01\n",
      "   ---------------------------- ----------- 2.2/3.1 MB 2.8 MB/s eta 0:00:01\n",
      "   ------------------------------ --------- 2.3/3.1 MB 2.8 MB/s eta 0:00:01\n",
      "   ------------------------------- -------- 2.4/3.1 MB 2.8 MB/s eta 0:00:01\n",
      "   -------------------------------- ------- 2.5/3.1 MB 2.7 MB/s eta 0:00:01\n",
      "   --------------------------------- ------ 2.6/3.1 MB 2.7 MB/s eta 0:00:01\n",
      "   ----------------------------------- ---- 2.7/3.1 MB 2.7 MB/s eta 0:00:01\n",
      "   ------------------------------------ --- 2.8/3.1 MB 2.7 MB/s eta 0:00:01\n",
      "   ------------------------------------- -- 2.9/3.1 MB 2.7 MB/s eta 0:00:01\n",
      "   -------------------------------------- - 3.0/3.1 MB 2.6 MB/s eta 0:00:01\n",
      "   -------------------------------------- - 3.0/3.1 MB 2.6 MB/s eta 0:00:01\n",
      "   ---------------------------------------- 3.1/3.1 MB 2.5 MB/s eta 0:00:00\n",
      "Installing collected packages: pedalboard\n",
      "Successfully installed pedalboard-0.8.6\n",
      "Note: you may need to restart the kernel to use updated packages.\n"
     ]
    }
   ],
   "source": [
    "%pip install pedalboard "
   ]
  },
  {
   "cell_type": "code",
   "execution_count": 9,
   "metadata": {},
   "outputs": [
    {
     "name": "stdout",
     "output_type": "stream",
     "text": [
      "Daftar file di Female_1 adalah:\n",
      "Daftar file di Male_1 adalah:\n",
      "Daftar file di Male_10 adalah:\n",
      "Daftar file di Male_11 adalah:\n",
      "Daftar file di Male_12 adalah:\n",
      "Daftar file di Male_13 adalah:\n",
      "Daftar file di Male_14 adalah:\n",
      "Daftar file di Male_15 adalah:\n",
      "Daftar file di Male_16 adalah:\n",
      "Daftar file di Male_2 adalah:\n",
      "Daftar file di Male_3 adalah:\n",
      "Daftar file di Male_4 adalah:\n",
      "Daftar file di Male_5 adalah:\n",
      "Daftar file di Male_6 adalah:\n",
      "Daftar file di Male_7 adalah:\n",
      "Daftar file di Male_8 adalah:\n",
      "Daftar file di Male_9 adalah:\n"
     ]
    }
   ],
   "source": [
    "import os\n",
    "from scipy.io import wavfile\n",
    "import noisereduce as nr\n",
    "# Path ke folder dataset\n",
    "folder_path = 'dataset/korpus/Audio'\n",
    "directories = [d for d in os.listdir(folder_path) if os.path.isdir(os.path.join(folder_path, d))]\n",
    "data = []\n",
    "i=0\n",
    "for directory in directories:\n",
    "    # if i ==1:\n",
    "    #     break\n",
    "    # i+=1\n",
    "    dir_path = os.path.join(folder_path, directory)\n",
    "    files_in_dir = [f for f in os.listdir(dir_path) if os.path.isfile(os.path.join(dir_path, f))]\n",
    "    print(\"Daftar file di\", directory, \"adalah:\")\n",
    "    for file_name in files_in_dir:\n",
    "        sound = AudioSegment.from_file(\"dataset/korpus/Audio/\"+directory+\"/\"+file_name, format=\"wav\")\n",
    "        sound = sound.set_channels(1)\n",
    "        start_trim = detect_leading_silence(sound)\n",
    "        end_trim = detect_leading_silence(sound.reverse())\n",
    "\n",
    "        duration = len(sound)    \n",
    "        trimmed_sound = sound[start_trim:duration-end_trim]\n",
    "        trimmed_sound.export(\"dataset/korpusVAD/Audio/\"+directory+\"/\"+file_name, format=\"wav\")\n"
   ]
  }
 ],
 "metadata": {
  "kernelspec": {
   "display_name": "Python 3",
   "language": "python",
   "name": "python3"
  },
  "language_info": {
   "codemirror_mode": {
    "name": "ipython",
    "version": 3
   },
   "file_extension": ".py",
   "mimetype": "text/x-python",
   "name": "python",
   "nbconvert_exporter": "python",
   "pygments_lexer": "ipython3",
   "version": "3.10.4"
  }
 },
 "nbformat": 4,
 "nbformat_minor": 2
}
